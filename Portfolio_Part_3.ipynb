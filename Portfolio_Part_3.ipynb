{
 "cells": [
  {
   "cell_type": "markdown",
   "id": "e4aef348",
   "metadata": {},
   "source": [
    "## Portfolio Part 3"
   ]
  },
  {
   "cell_type": "markdown",
   "id": "0619c315",
   "metadata": {},
   "source": [
    "In this Portfolio task you will continue working with the movielens data collected by the GroupLens Research Project at the University of Minnesota. The columns in the dataset are a little bit different from the ones provided in the previous Portfolio tasks, where the 'rating' column is replaced by the 'feedback' column. There are two values regarding the 'feedback' with 1 indicating the user likes the corresponding movie; otherwise 0. \n",
    "\n",
    "The header of the csv file is shown below. \n",
    "\n",
    "| userId | age | gender | occupation| movieId | feedback | genre | timestamp |\n",
    "    | ---- | ---- | ---- | ---- | ---- | ---- | ---- | ---- | \n",
    "    \n",
    "#### Description of Fields\n",
    "\n",
    "* __userId__ - the user's id\n",
    "* __age__ - the user's age\n",
    "* __gender__ - the user's gender\n",
    "* __occupation__ - the user's occupation\n",
    "* __movieId__ - the movie's id\n",
    "* __feedback__ - the user's feedback towards the movie (1 means 'like'; 0 means 'dislike')\n",
    "* __genre__ - the genre of the movie\n",
    "* __timestamp__ - the timestamp indicating when the user rated the movie\n",
    "\n",
    "Note that, a same user (i.e., a same userId) corresponds to a same age/gender/occupation; a same movie (i.e., a same movieId) corresponds to a same genre; a same user (i.e., a same userId) may like multiple movies and a same movie (i.e., a same movieId) may be preferred by multiple users.\n",
    "\n",
    "\n",
    "Your high level goal in this notebook is to try to build and evaluate predictive models for feedback from available features - predict the value of the __feedback__ field in the data from some of the other fields. Explore the data, build a model using a selection of features and then do some work on finding out which features provide the most accurate results.\n",
    "\n",
    "Note: you are not being evaluated on the ___accuracy___ of the model but on the ___process___ that you use to generate it. Please use a ___simple Logistic Regression model___ and ___one of the more advanced methods___ covered in recent weeks. Accordingly, discuss the performance of the simple and advanced methods."
   ]
  },
  {
   "cell_type": "code",
   "execution_count": 13,
   "id": "47be0d08",
   "metadata": {},
   "outputs": [],
   "source": [
    "#Importing all libraires\n",
    "import pandas as pd\n",
    "import numpy as np\n",
    "import matplotlib.pyplot as plt\n",
    "import seaborn as sns\n",
    "%matplotlib inline\n",
    "from sklearn.model_selection import train_test_split\n",
    "from sklearn.model_selection import cross_val_score\n",
    "from sklearn.linear_model import LogisticRegression\n",
    "from sklearn.metrics import confusion_matrix, accuracy_score\n",
    "from sklearn.feature_selection import RFE\n",
    "from sklearn.metrics import mean_squared_error\n",
    "from sklearn.metrics import r2_score\n",
    "from sklearn.neighbors import KNeighborsClassifier\n",
    "from sklearn.metrics import classification_report, confusion_matrix\n",
    "\n",
    "import warnings\n",
    "warnings.filterwarnings('ignore')"
   ]
  },
  {
   "cell_type": "markdown",
   "id": "ec36d99b",
   "metadata": {},
   "source": [
    "### Exploring the Data"
   ]
  },
  {
   "cell_type": "code",
   "execution_count": 14,
   "id": "84c57251",
   "metadata": {},
   "outputs": [
    {
     "data": {
      "text/html": [
       "<div>\n",
       "<style scoped>\n",
       "    .dataframe tbody tr th:only-of-type {\n",
       "        vertical-align: middle;\n",
       "    }\n",
       "\n",
       "    .dataframe tbody tr th {\n",
       "        vertical-align: top;\n",
       "    }\n",
       "\n",
       "    .dataframe thead th {\n",
       "        text-align: right;\n",
       "    }\n",
       "</style>\n",
       "<table border=\"1\" class=\"dataframe\">\n",
       "  <thead>\n",
       "    <tr style=\"text-align: right;\">\n",
       "      <th></th>\n",
       "      <th>userId</th>\n",
       "      <th>age</th>\n",
       "      <th>gender</th>\n",
       "      <th>occupation</th>\n",
       "      <th>movieId</th>\n",
       "      <th>feedback</th>\n",
       "      <th>genre</th>\n",
       "      <th>timestamp</th>\n",
       "    </tr>\n",
       "  </thead>\n",
       "  <tbody>\n",
       "    <tr>\n",
       "      <th>0</th>\n",
       "      <td>196</td>\n",
       "      <td>49</td>\n",
       "      <td>M</td>\n",
       "      <td>writer</td>\n",
       "      <td>242</td>\n",
       "      <td>0</td>\n",
       "      <td>Comedy</td>\n",
       "      <td>881250949</td>\n",
       "    </tr>\n",
       "    <tr>\n",
       "      <th>1</th>\n",
       "      <td>186</td>\n",
       "      <td>39</td>\n",
       "      <td>F</td>\n",
       "      <td>executive</td>\n",
       "      <td>302</td>\n",
       "      <td>0</td>\n",
       "      <td>Crime</td>\n",
       "      <td>891717742</td>\n",
       "    </tr>\n",
       "    <tr>\n",
       "      <th>2</th>\n",
       "      <td>22</td>\n",
       "      <td>25</td>\n",
       "      <td>M</td>\n",
       "      <td>writer</td>\n",
       "      <td>377</td>\n",
       "      <td>0</td>\n",
       "      <td>Children</td>\n",
       "      <td>878887116</td>\n",
       "    </tr>\n",
       "    <tr>\n",
       "      <th>3</th>\n",
       "      <td>244</td>\n",
       "      <td>28</td>\n",
       "      <td>M</td>\n",
       "      <td>technician</td>\n",
       "      <td>51</td>\n",
       "      <td>0</td>\n",
       "      <td>Romance</td>\n",
       "      <td>880606923</td>\n",
       "    </tr>\n",
       "    <tr>\n",
       "      <th>4</th>\n",
       "      <td>166</td>\n",
       "      <td>47</td>\n",
       "      <td>M</td>\n",
       "      <td>educator</td>\n",
       "      <td>346</td>\n",
       "      <td>0</td>\n",
       "      <td>Drama</td>\n",
       "      <td>886397596</td>\n",
       "    </tr>\n",
       "    <tr>\n",
       "      <th>5</th>\n",
       "      <td>298</td>\n",
       "      <td>44</td>\n",
       "      <td>M</td>\n",
       "      <td>executive</td>\n",
       "      <td>474</td>\n",
       "      <td>1</td>\n",
       "      <td>War</td>\n",
       "      <td>884182806</td>\n",
       "    </tr>\n",
       "    <tr>\n",
       "      <th>6</th>\n",
       "      <td>115</td>\n",
       "      <td>31</td>\n",
       "      <td>M</td>\n",
       "      <td>engineer</td>\n",
       "      <td>265</td>\n",
       "      <td>0</td>\n",
       "      <td>Action</td>\n",
       "      <td>881171488</td>\n",
       "    </tr>\n",
       "    <tr>\n",
       "      <th>7</th>\n",
       "      <td>253</td>\n",
       "      <td>26</td>\n",
       "      <td>F</td>\n",
       "      <td>librarian</td>\n",
       "      <td>465</td>\n",
       "      <td>1</td>\n",
       "      <td>Adventure</td>\n",
       "      <td>891628467</td>\n",
       "    </tr>\n",
       "    <tr>\n",
       "      <th>8</th>\n",
       "      <td>305</td>\n",
       "      <td>23</td>\n",
       "      <td>M</td>\n",
       "      <td>programmer</td>\n",
       "      <td>451</td>\n",
       "      <td>0</td>\n",
       "      <td>Romance</td>\n",
       "      <td>886324817</td>\n",
       "    </tr>\n",
       "    <tr>\n",
       "      <th>9</th>\n",
       "      <td>6</td>\n",
       "      <td>42</td>\n",
       "      <td>M</td>\n",
       "      <td>executive</td>\n",
       "      <td>86</td>\n",
       "      <td>0</td>\n",
       "      <td>Drama</td>\n",
       "      <td>883603013</td>\n",
       "    </tr>\n",
       "  </tbody>\n",
       "</table>\n",
       "</div>"
      ],
      "text/plain": [
       "   userId  age gender  occupation  movieId  feedback      genre  timestamp\n",
       "0     196   49      M      writer      242         0     Comedy  881250949\n",
       "1     186   39      F   executive      302         0      Crime  891717742\n",
       "2      22   25      M      writer      377         0   Children  878887116\n",
       "3     244   28      M  technician       51         0    Romance  880606923\n",
       "4     166   47      M    educator      346         0      Drama  886397596\n",
       "5     298   44      M   executive      474         1        War  884182806\n",
       "6     115   31      M    engineer      265         0     Action  881171488\n",
       "7     253   26      F   librarian      465         1  Adventure  891628467\n",
       "8     305   23      M  programmer      451         0    Romance  886324817\n",
       "9       6   42      M   executive       86         0      Drama  883603013"
      ]
     },
     "execution_count": 14,
     "metadata": {},
     "output_type": "execute_result"
    }
   ],
   "source": [
    "#Reading the csv file\n",
    "df = pd.read_csv('files/movielens_data_feedback.csv')\n",
    "df.head(10)"
   ]
  },
  {
   "cell_type": "code",
   "execution_count": 15,
   "id": "43b3785a",
   "metadata": {},
   "outputs": [
    {
     "data": {
      "text/plain": [
       "(100000, 8)"
      ]
     },
     "execution_count": 15,
     "metadata": {},
     "output_type": "execute_result"
    }
   ],
   "source": [
    "# Examine the data: check number of rows and number of columns\n",
    "df.shape"
   ]
  },
  {
   "cell_type": "code",
   "execution_count": 16,
   "id": "4942643b",
   "metadata": {},
   "outputs": [
    {
     "data": {
      "text/html": [
       "<div>\n",
       "<style scoped>\n",
       "    .dataframe tbody tr th:only-of-type {\n",
       "        vertical-align: middle;\n",
       "    }\n",
       "\n",
       "    .dataframe tbody tr th {\n",
       "        vertical-align: top;\n",
       "    }\n",
       "\n",
       "    .dataframe thead th {\n",
       "        text-align: right;\n",
       "    }\n",
       "</style>\n",
       "<table border=\"1\" class=\"dataframe\">\n",
       "  <thead>\n",
       "    <tr style=\"text-align: right;\">\n",
       "      <th></th>\n",
       "      <th>userId</th>\n",
       "      <th>age</th>\n",
       "      <th>movieId</th>\n",
       "      <th>feedback</th>\n",
       "      <th>timestamp</th>\n",
       "    </tr>\n",
       "  </thead>\n",
       "  <tbody>\n",
       "    <tr>\n",
       "      <th>count</th>\n",
       "      <td>100000.00000</td>\n",
       "      <td>100000.000000</td>\n",
       "      <td>100000.000000</td>\n",
       "      <td>100000.000000</td>\n",
       "      <td>1.000000e+05</td>\n",
       "    </tr>\n",
       "    <tr>\n",
       "      <th>mean</th>\n",
       "      <td>462.48475</td>\n",
       "      <td>32.969850</td>\n",
       "      <td>425.530130</td>\n",
       "      <td>0.553750</td>\n",
       "      <td>8.835289e+08</td>\n",
       "    </tr>\n",
       "    <tr>\n",
       "      <th>std</th>\n",
       "      <td>266.61442</td>\n",
       "      <td>11.562623</td>\n",
       "      <td>330.798356</td>\n",
       "      <td>0.497105</td>\n",
       "      <td>5.343856e+06</td>\n",
       "    </tr>\n",
       "    <tr>\n",
       "      <th>min</th>\n",
       "      <td>1.00000</td>\n",
       "      <td>7.000000</td>\n",
       "      <td>1.000000</td>\n",
       "      <td>0.000000</td>\n",
       "      <td>8.747247e+08</td>\n",
       "    </tr>\n",
       "    <tr>\n",
       "      <th>25%</th>\n",
       "      <td>254.00000</td>\n",
       "      <td>24.000000</td>\n",
       "      <td>175.000000</td>\n",
       "      <td>0.000000</td>\n",
       "      <td>8.794487e+08</td>\n",
       "    </tr>\n",
       "    <tr>\n",
       "      <th>50%</th>\n",
       "      <td>447.00000</td>\n",
       "      <td>30.000000</td>\n",
       "      <td>322.000000</td>\n",
       "      <td>1.000000</td>\n",
       "      <td>8.828269e+08</td>\n",
       "    </tr>\n",
       "    <tr>\n",
       "      <th>75%</th>\n",
       "      <td>682.00000</td>\n",
       "      <td>40.000000</td>\n",
       "      <td>631.000000</td>\n",
       "      <td>1.000000</td>\n",
       "      <td>8.882600e+08</td>\n",
       "    </tr>\n",
       "    <tr>\n",
       "      <th>max</th>\n",
       "      <td>943.00000</td>\n",
       "      <td>73.000000</td>\n",
       "      <td>1682.000000</td>\n",
       "      <td>1.000000</td>\n",
       "      <td>8.932866e+08</td>\n",
       "    </tr>\n",
       "  </tbody>\n",
       "</table>\n",
       "</div>"
      ],
      "text/plain": [
       "             userId            age        movieId       feedback     timestamp\n",
       "count  100000.00000  100000.000000  100000.000000  100000.000000  1.000000e+05\n",
       "mean      462.48475      32.969850     425.530130       0.553750  8.835289e+08\n",
       "std       266.61442      11.562623     330.798356       0.497105  5.343856e+06\n",
       "min         1.00000       7.000000       1.000000       0.000000  8.747247e+08\n",
       "25%       254.00000      24.000000     175.000000       0.000000  8.794487e+08\n",
       "50%       447.00000      30.000000     322.000000       1.000000  8.828269e+08\n",
       "75%       682.00000      40.000000     631.000000       1.000000  8.882600e+08\n",
       "max       943.00000      73.000000    1682.000000       1.000000  8.932866e+08"
      ]
     },
     "execution_count": 16,
     "metadata": {},
     "output_type": "execute_result"
    }
   ],
   "source": [
    "# Look at the statistical summary of the dataframe\n",
    "df.describe()"
   ]
  },
  {
   "cell_type": "code",
   "execution_count": 17,
   "id": "3bf9fd51",
   "metadata": {},
   "outputs": [
    {
     "data": {
      "text/plain": [
       "{0, 1}"
      ]
     },
     "execution_count": 17,
     "metadata": {},
     "output_type": "execute_result"
    }
   ],
   "source": [
    "# Checking the types of category in the 'feedback' column\n",
    "set(df['feedback'])"
   ]
  },
  {
   "cell_type": "code",
   "execution_count": 18,
   "id": "ffa8c21b",
   "metadata": {},
   "outputs": [
    {
     "name": "stdout",
     "output_type": "stream",
     "text": [
      "No. of negative feedbacks on movies:  44625\n",
      "No. of positive feedbacks on movies 55375\n",
      "Percentage of negative feedbacks 44.625 %\n",
      "Percentage of negative feedbacks 55.375 %\n"
     ]
    }
   ],
   "source": [
    "# Check number of samples for each feedback\n",
    "print(\"No. of negative feedbacks on movies: \", df[df['feedback'] == 0].shape[0])\n",
    "print(\"No. of positive feedbacks on movies\", df[df['feedback'] == 1].shape[0])\n",
    "print(\"Percentage of negative feedbacks\", (df[df['feedback'] == 0].shape[0]/df.shape[0])*100,\"%\")\n",
    "print(\"Percentage of negative feedbacks\", (df[df['feedback'] == 1].shape[0]/df.shape[0])*100,\"%\")"
   ]
  },
  {
   "cell_type": "code",
   "execution_count": 19,
   "id": "96dd48ae",
   "metadata": {},
   "outputs": [
    {
     "ename": "NameError",
     "evalue": "name 'ax' is not defined",
     "output_type": "error",
     "traceback": [
      "\u001b[1;31m---------------------------------------------------------------------------\u001b[0m",
      "\u001b[1;31mNameError\u001b[0m                                 Traceback (most recent call last)",
      "\u001b[1;32mC:\\Users\\Public\\Documents\\iSkysoft\\CreatorTemp/ipykernel_4132/725263052.py\u001b[0m in \u001b[0;36m<module>\u001b[1;34m\u001b[0m\n\u001b[0;32m     11\u001b[0m \u001b[0max1\u001b[0m\u001b[1;33m.\u001b[0m\u001b[0mpie\u001b[0m\u001b[1;33m(\u001b[0m\u001b[0mdata\u001b[0m\u001b[1;33m,\u001b[0m \u001b[0mlabels\u001b[0m \u001b[1;33m=\u001b[0m \u001b[0mlabels\u001b[0m\u001b[1;33m,\u001b[0m \u001b[0mcolors\u001b[0m \u001b[1;33m=\u001b[0m \u001b[0mcolors\u001b[0m\u001b[1;33m,\u001b[0m \u001b[0mautopct\u001b[0m\u001b[1;33m=\u001b[0m\u001b[1;34m'%.0f%%'\u001b[0m\u001b[1;33m)\u001b[0m\u001b[1;33m\u001b[0m\u001b[1;33m\u001b[0m\u001b[0m\n\u001b[0;32m     12\u001b[0m \u001b[0msns\u001b[0m\u001b[1;33m.\u001b[0m\u001b[0mbarplot\u001b[0m\u001b[1;33m(\u001b[0m\u001b[0mdata\u001b[0m\u001b[1;33m,\u001b[0m\u001b[0mlabels\u001b[0m\u001b[1;33m,\u001b[0m\u001b[0max\u001b[0m\u001b[1;33m=\u001b[0m\u001b[0max2\u001b[0m\u001b[1;33m)\u001b[0m\u001b[1;33m\u001b[0m\u001b[1;33m\u001b[0m\u001b[0m\n\u001b[1;32m---> 13\u001b[1;33m \u001b[0max2\u001b[0m\u001b[1;33m.\u001b[0m\u001b[0mbar_label\u001b[0m\u001b[1;33m(\u001b[0m\u001b[0max\u001b[0m\u001b[1;33m.\u001b[0m\u001b[0mcontainers\u001b[0m\u001b[1;33m[\u001b[0m\u001b[1;36m0\u001b[0m\u001b[1;33m]\u001b[0m\u001b[1;33m)\u001b[0m\u001b[1;33m\u001b[0m\u001b[1;33m\u001b[0m\u001b[0m\n\u001b[0m\u001b[0;32m     14\u001b[0m \u001b[0mplt\u001b[0m\u001b[1;33m.\u001b[0m\u001b[0mshow\u001b[0m\u001b[1;33m(\u001b[0m\u001b[1;33m)\u001b[0m\u001b[1;33m\u001b[0m\u001b[1;33m\u001b[0m\u001b[0m\n",
      "\u001b[1;31mNameError\u001b[0m: name 'ax' is not defined"
     ]
    },
    {
     "data": {
      "image/png": "[encoded data removed]",
      "text/plain": [
       "<Figure size 1080x432 with 2 Axes>"
      ]
     },
     "metadata": {
      "needs_background": "light"
     },
     "output_type": "display_data"
    }
   ],
   "source": [
    "\n",
    "#Visualisation of target variable 'feedbkack'\n",
    "fig, (ax1, ax2) = plt.subplots(1, 2,figsize=(15,6))\n",
    "fig.suptitle(\"Comparison of Total counts of Disliked and Liked\",size=15)\n",
    "\n",
    "data = [df[df['feedback'] == 0].shape[0], df[df['feedback'] == 1].shape[0]]\n",
    "labels = ['Disliked', 'Liked']\n",
    "\n",
    "colors = sns.color_palette('deep')[0:5]\n",
    "\n",
    "#creating pie-chart and bar-chart\n",
    "ax1.pie(data, labels = labels, colors = colors, autopct='%.0f%%')\n",
    "sns.barplot(data,labels,ax=ax2)\n",
    "ax2.bar_label(ax.containers[0])\n",
    "plt.show()"
   ]
  },
  {
   "cell_type": "markdown",
   "id": "6e32eb6b",
   "metadata": {},
   "source": [
    "\n",
    "As we can see that number of positive feedbacks is around 55%, slightly greater than the negative ones. So, dataset is not equally balanced. This might cause some bias as the model will be much more likely to predict 1 instead of 0."
   ]
  },
  {
   "cell_type": "code",
   "execution_count": null,
   "id": "3f88c087",
   "metadata": {},
   "outputs": [],
   "source": [
    "# Deal with the NaN values in the data\n",
    "df.isna().sum()"
   ]
  },
  {
   "cell_type": "markdown",
   "id": "bd3755cf",
   "metadata": {},
   "source": [
    "There doesn't seem to be any NaN values in this dataframe. Therefore, no changes are made to the dataframe"
   ]
  },
  {
   "cell_type": "markdown",
   "id": "e480fc7f",
   "metadata": {},
   "source": [
    "### Converting Categorical Variables into Numerical Variables using Ordinal Encoding\n",
    "\n",
    "One hot encoding wasn't the best encoding in this scenario because using that would increase the total features to more than 40 since there were a lot of categories of genre and occupation"
   ]
  },
  {
   "cell_type": "code",
   "execution_count": null,
   "id": "77054574",
   "metadata": {},
   "outputs": [],
   "source": [
    "df_converted = df\n",
    "#convert Categorical to numerical values\n",
    "df_converted['gender'] = df_converted['gender'].astype('category')\n",
    "df_converted['gender'] = df_converted['gender'].cat.codes\n",
    "\n",
    "df_converted['occupation'] = df_converted['occupation'].astype('category')\n",
    "df_converted['occupation'] = df_converted['occupation'].cat.codes\n",
    "\n",
    "df_converted['genre'] = df_converted['genre'].astype('category')\n",
    "df_converted['genre'] = df_converted['genre'].cat.codes"
   ]
  },
  {
   "cell_type": "code",
   "execution_count": null,
   "id": "6bb6e645",
   "metadata": {},
   "outputs": [],
   "source": [
    "df_converted.head()"
   ]
  },
  {
   "cell_type": "markdown",
   "id": "546838a4",
   "metadata": {},
   "source": [
    "### Correlation between Features and Target Variable"
   ]
  },
  {
   "cell_type": "code",
   "execution_count": null,
   "id": "598372f2",
   "metadata": {
    "scrolled": true
   },
   "outputs": [],
   "source": [
    "# getting the correlations between age/genre/gender/occupation and feedback\n",
    "corr_age = df_converted['age'].corr(df_converted['feedback']) \n",
    "corr_genre = df_converted['genre'].corr(df_converted['feedback'])\n",
    "corr_gender = df_converted['gender'].corr(df_converted['feedback'])\n",
    "corr_occupation = df_converted['occupation'].corr(df_converted['feedback'])\n",
    "\n",
    "print('correlation_age:', corr_age)\n",
    "print('correlation_genre:', corr_genre)\n",
    "print('correlation_gender:', corr_gender)\n",
    "print('correlation_occupation:', corr_occupation)"
   ]
  },
  {
   "cell_type": "markdown",
   "id": "fa08d8e9",
   "metadata": {},
   "source": [
    "**From the results, we may get several observations/conclusions:**\n",
    "* Feedback is relatively more correlated with movie genre and user's age.\n",
    "* Feedback is comparitively less correlated with user's gender and its occupation. \n",
    "* Overall, feedback is not highly correlated with any of the four features, as the correlation values are quite small. Therefore, using these features as input for rating prediction may not be quite accurate and helpful."
   ]
  },
  {
   "cell_type": "markdown",
   "id": "9e89620f",
   "metadata": {},
   "source": [
    "### Logisting Regression\n",
    "\n",
    "#### Split Training and Testing Data\n",
    "* We randomly split the dataset into training and testing sets, where we use the training set to train the model, and then leverage the well-trained model to make predictions on the testing set. \n",
    "* In this scenario, the training set consists of 80% of the total data whereas the testing comprises on 20%."
   ]
  },
  {
   "cell_type": "code",
   "execution_count": null,
   "id": "ea2ee8ac",
   "metadata": {},
   "outputs": [],
   "source": [
    "# Spliting the data into training(80%) and testing data (20%) and use random_state=142\n",
    "train, test = train_test_split(df_converted, test_size=0.2, random_state=142)\n",
    "print(train.shape)\n",
    "print(test.shape)"
   ]
  },
  {
   "cell_type": "markdown",
   "id": "80482c5c",
   "metadata": {},
   "source": [
    "### Using Recursive Feature Estimation\n",
    "\n",
    "* RFE is implemented which removes features one by one, evaluating the model each time and selecting the best model for a target number of features."
   ]
  },
  {
   "cell_type": "code",
   "execution_count": null,
   "id": "b3aaccc4",
   "metadata": {},
   "outputs": [],
   "source": [
    "#training the model with all features\n",
    "feature_cols = np.array(['genre', 'age','gender','occupation'])\n",
    "\n",
    "X_train = train[feature_cols]\n",
    "y_train = train['feedback']\n",
    "X_test = test[feature_cols]\n",
    "y_test = test['feedback']"
   ]
  },
  {
   "cell_type": "code",
   "execution_count": null,
   "id": "1c2bc6ca",
   "metadata": {},
   "outputs": [],
   "source": [
    "# creating RFE object\n",
    "lr_model = LogisticRegression()\n",
    "rfe = RFE(estimator=lr_model, n_features_to_select=4, step=1)\n",
    "rfe.fit(X_train, y_train)\n",
    "\n",
    "supp = rfe.get_support()\n",
    "print(\"Selected features:\", feature_cols[supp])\n",
    "print(\"Coefficients: \", rfe.estimator_.coef_)"
   ]
  },
  {
   "cell_type": "code",
   "execution_count": null,
   "id": "a4ccf48c",
   "metadata": {},
   "outputs": [],
   "source": [
    "# Estimating accuracy score on test by using different number of features\n",
    "acc_scores = []\n",
    "for i in range(1,5):\n",
    "    clf = LogisticRegression()\n",
    "    rfe = RFE(estimator=clf, n_features_to_select=i)\n",
    "    # training model\n",
    "    rfe.fit(X_train, y_train)\n",
    "    # predicting on test set\n",
    "    y_pred = rfe.predict(X_test)\n",
    "    acc_score = accuracy_score(y_test, y_pred)\n",
    "    # print this\n",
    "    print(\"Accuracy on test set using\", i, \"features: \", acc_score)\n",
    "    # append to the list\n",
    "    acc_scores.append(acc_score)"
   ]
  },
  {
   "cell_type": "code",
   "execution_count": null,
   "id": "8a5a1612",
   "metadata": {},
   "outputs": [],
   "source": [
    "#Visualisation of the accuracy score using different number of features\n",
    "estimator = LogisticRegression()\n",
    "acc_scores = []\n",
    "for i in range(1, 5):\n",
    "    selector = RFE(estimator, i)\n",
    "    selector = selector.fit(X_train, y_train)\n",
    "    supp = selector.get_support()\n",
    "\n",
    "    predicted = selector.predict(X_test)\n",
    "    acc_score = accuracy_score(y_test, predicted)\n",
    "    acc_scores.append(acc_score)\n",
    "  \n",
    "best = 1\n",
    "for item in acc_scores:\n",
    "    if item > acc_scores[best - 1]:\n",
    "        best = acc_scores.index(item) + 1\n",
    "\n",
    "plt.grid()   \n",
    "plt.xlabel('# No. of features')\n",
    "plt.ylabel('Accuracy score on test set')\n",
    "plt.plot(range(1, 5), acc_scores, marker = 'o', color = 'red', markeredgewidth = 1 ,markeredgecolor = 'blue', markerfacecolor = 'None')\n",
    "plt.plot(best, acc_scores[best-1], marker = 'o', markerfacecolor = 'blue')\n",
    "print(\"Number of features to select:\", best)\n",
    "plt.title(\"Accuracy Scores on test set using different number of features\", size=13)"
   ]
  },
  {
   "cell_type": "markdown",
   "id": "c0f49689",
   "metadata": {},
   "source": [
    "### Observation and Analysis\n",
    "\n",
    "From the graph, we can clearly observe that the accuracy of model drops if we use more than 1 feature. According the calculations, Accuracy using 1 features (0.5578) is slightly higher than the others. Although, the difference may not significantly big, the graphs of the accuracy test suggests that using 1 feature to train the regression model would improve accuracy marginally. Genre will be used as the only predictive feature as it has the high correlation value with the target variable 'feedback'.\n",
    "\n"
   ]
  },
  {
   "cell_type": "markdown",
   "id": "8991a84b",
   "metadata": {},
   "source": [
    "### Re-training the model with the single most correlated feature"
   ]
  },
  {
   "cell_type": "code",
   "execution_count": null,
   "id": "69500f90",
   "metadata": {},
   "outputs": [],
   "source": [
    "feature_cols = ['genre']\n",
    "\n",
    "X_train1 = train[['genre']]\n",
    "y_train1 = train['feedback']\n",
    "X_test1 = test[['genre']]\n",
    "y_test1 = test['feedback']"
   ]
  },
  {
   "cell_type": "code",
   "execution_count": null,
   "id": "52900689",
   "metadata": {},
   "outputs": [],
   "source": [
    "# Training Logistic Regression model\n",
    "model1 = LogisticRegression()\n",
    "model1.fit(X_train1, y_train1)"
   ]
  },
  {
   "cell_type": "code",
   "execution_count": null,
   "id": "acb9cf98",
   "metadata": {},
   "outputs": [],
   "source": [
    "# Doing predictions on train and test set\n",
    "y_hat_train1 = model1.predict(X_train1)\n",
    "y_hat_test1 = model1.predict(X_test1)"
   ]
  },
  {
   "cell_type": "markdown",
   "id": "7dbc7570",
   "metadata": {},
   "source": [
    "## Evaluation"
   ]
  },
  {
   "cell_type": "code",
   "execution_count": null,
   "id": "75efde48",
   "metadata": {},
   "outputs": [],
   "source": [
    "# Evaluate the performance of your trained model\n",
    "Regression_AccuracyScore = accuracy_score(y_test1, y_hat_test1)\n",
    "print(\"Accuracy score on testing set:\", Regression_AccuracyScore)"
   ]
  },
  {
   "cell_type": "markdown",
   "id": "3b5152fb",
   "metadata": {},
   "source": [
    "As we can see that model performance is average. It has around 55% chance of predicting the correct feedback"
   ]
  },
  {
   "cell_type": "code",
   "execution_count": null,
   "id": "98386e4c",
   "metadata": {
    "scrolled": true
   },
   "outputs": [],
   "source": [
    "# Checking confusion matrix\n",
    "print(\"Confusion matrix on test set: \")\n",
    "print(confusion_matrix(y_test1, y_hat_test1))"
   ]
  },
  {
   "cell_type": "markdown",
   "id": "2c6bcb72",
   "metadata": {},
   "source": [
    "**Logistic Regression Confusion matrix test set summary**\n",
    "* True Positives (When the user dislikes the movie and the algorithm predicts correctly) = 0  \n",
    "* True Negatives (When the user liked the movie and the algorithm predicts correctly) = 11156 \n",
    "* False Positives (When the user didn't the movie but the algorithm said it did)  = 8844\n",
    "* False Negatives (When the user liked the movie and the algorithm said it didnt) = 0   "
   ]
  },
  {
   "cell_type": "code",
   "execution_count": null,
   "id": "f142852c",
   "metadata": {
    "scrolled": true
   },
   "outputs": [],
   "source": [
    "#Predicting Probabilities\n",
    "probs = model1.predict_proba(X_train1)[:,1]\n",
    "plt.scatter(X_train1,y_train1); plt.scatter(X_train1,probs)\n",
    "plt.xlabel(\"genre\");plt.ylabel(\"feedback\")\n",
    "plt.title(\"Probability of Predicting feedback\", size=15)"
   ]
  },
  {
   "cell_type": "markdown",
   "id": "3dea0ba8",
   "metadata": {},
   "source": [
    "#### Observation and Analysis\n",
    "\n",
    "Since, 55% of the feedback value is 1 in the dataset, the model may be slightly unbalanced which has caused some sort of bias. In the confusion matrix, the **True positive**, and **False Negative** values are 0 because the model predicts every feedback value to be 1. This is because the probability of predicting feedback value to be 1 is slightly greater than 0.5 for every genre category as seen in the scatter plot above. Which means it would be rounded off to 1 every time and the model will never predict the value of feedback to be 0. This is also because feedback is not highly correlated with any of the feature, as the correlation values are quite small. Therefore, using any these features as input for feedback prediction may not be quite accurate and helpful at all. This model would be be great at all for predicting disliked feedback values."
   ]
  },
  {
   "cell_type": "markdown",
   "id": "d1f129d9",
   "metadata": {},
   "source": [
    "## K-nearest Neighbors"
   ]
  },
  {
   "cell_type": "code",
   "execution_count": null,
   "id": "2f73202a",
   "metadata": {},
   "outputs": [],
   "source": [
    "#Using a new data frame for KNN\n",
    "kdf = df_converted"
   ]
  },
  {
   "cell_type": "code",
   "execution_count": null,
   "id": "69716cf1",
   "metadata": {},
   "outputs": [],
   "source": [
    "#Modifying new table\n",
    "kdf =kdf.drop(['userId','feedback', 'genre','movieId','timestamp'], axis=1)\n",
    "kdf['genre'] = df_converted['genre']\n",
    "kdf['feedback'] = df_converted['feedback']\n",
    "kdf"
   ]
  },
  {
   "cell_type": "code",
   "execution_count": null,
   "id": "2e296c84",
   "metadata": {},
   "outputs": [],
   "source": [
    "#Feature Selection\n",
    "X = kdf.iloc[:,0:4] \n",
    "X = X.values #Making X an array"
   ]
  },
  {
   "cell_type": "code",
   "execution_count": null,
   "id": "6b962dfa",
   "metadata": {},
   "outputs": [],
   "source": [
    "#Selecting feedback column as Target Variable\n",
    "Y = kdf.iloc[:,-1].values"
   ]
  },
  {
   "cell_type": "code",
   "execution_count": null,
   "id": "62448621",
   "metadata": {},
   "outputs": [],
   "source": [
    "## Train, Test and Splitting the data\n",
    "X_train2, X_test2, Y_train2,Y_test2 = train_test_split(X,Y, test_size=0.2, random_state=142)"
   ]
  },
  {
   "cell_type": "markdown",
   "id": "c08c4e83",
   "metadata": {},
   "source": [
    "### Finding the Optimal K value"
   ]
  },
  {
   "cell_type": "code",
   "execution_count": null,
   "id": "b1784f23",
   "metadata": {},
   "outputs": [],
   "source": [
    "error_rate = []\n",
    "for i in range(1,50):\n",
    " knn = KNeighborsClassifier(n_neighbors=i)\n",
    " knn.fit(X_train2,Y_train2)\n",
    " pred_i = knn.predict(X_test2)\n",
    " error_rate.append(np.mean(pred_i != Y_test2))\n",
    "\n",
    "plt.figure(figsize=(10,6))\n",
    "plt.plot(range(1,50),error_rate,color='red', linestyle='dashed', \n",
    "         marker='o',markerfacecolor='blue', markersize=10,label='Testing Error')\n",
    "plt.title('Error Rate vs. K Value')\n",
    "plt.xlabel('K')\n",
    "plt.ylabel('Error Rate')\n",
    "print(\"Minimum error:-\",min(error_rate),\"at K =\",error_rate.index(min(error_rate)))"
   ]
  },
  {
   "cell_type": "markdown",
   "id": "4ddd973c",
   "metadata": {},
   "source": [
    "From the graph and the output, we find out that the model gives out the minimum error 0.39565 when K=40 on testing data"
   ]
  },
  {
   "cell_type": "markdown",
   "id": "864e8eb6",
   "metadata": {},
   "source": [
    "#### Fitting and Training the KNN model with the optimal K value"
   ]
  },
  {
   "cell_type": "code",
   "execution_count": null,
   "id": "e2c5a829",
   "metadata": {},
   "outputs": [],
   "source": [
    "k = 40\n",
    "KNN = KNeighborsClassifier(n_neighbors=k,weights = 'uniform',algorithm='kd_tree',leaf_size=30,\n",
    "                           p=2,metric='minkowski',n_jobs =-1)\n",
    "KNN.fit(X_train2,Y_train2)\n",
    "Y_pred=KNN.predict(X_test2)"
   ]
  },
  {
   "cell_type": "code",
   "execution_count": null,
   "id": "e19af599",
   "metadata": {},
   "outputs": [],
   "source": [
    "KNN_AccuracyScore = accuracy_score(Y_test2, Y_pred)\n",
    "print('Best K value:', 40)\n",
    "print(\"Accuracy score on Knn:\", KNN_AccuracyScore )"
   ]
  },
  {
   "cell_type": "markdown",
   "id": "5af2d7d0",
   "metadata": {},
   "source": [
    "This model has an accuracy score of 0.6012. It means that It is 60% more likely to predict the correct feedback based on the testing set."
   ]
  },
  {
   "cell_type": "markdown",
   "id": "e4b0a5aa",
   "metadata": {},
   "source": [
    "### K-fold Cross Validation"
   ]
  },
  {
   "cell_type": "code",
   "execution_count": null,
   "id": "0ae56591",
   "metadata": {},
   "outputs": [],
   "source": [
    "# Create a KNN classifier model and use k-fold cross validation for testing accuracy estimation\n",
    "clf = KNeighborsClassifier(n_neighbors = 40)\n",
    "scores = cross_val_score(clf, X, Y, cv=10)\n",
    "print('Accuracy for each round: \\n', scores)\n",
    "print('Average accuracy: %.4f +- %.4f' % (scores.mean(), scores.std()))"
   ]
  },
  {
   "cell_type": "markdown",
   "id": "63e7c5fe",
   "metadata": {},
   "source": [
    "### KNN Confusion Matrix"
   ]
  },
  {
   "cell_type": "code",
   "execution_count": null,
   "id": "e900d679",
   "metadata": {},
   "outputs": [],
   "source": [
    "#Visualization of KNN Confusion Matrix\n",
    "data = {'y_Actual':    Y_test2,\n",
    "        'y_Predicted': Y_pred\n",
    "        }\n",
    "\n",
    "df = pd.DataFrame(data, columns=['y_Actual','y_Predicted'])\n",
    "plt.title('KNN Confusion Matrix')\n",
    "confusion_matrix = pd.crosstab(df['y_Actual'], df['y_Predicted'], rownames=['Actual'], colnames=['Predicted'])\n",
    "\n",
    "ax2=sns.heatmap(confusion_matrix, annot=True,fmt='', cmap='Blues')\n",
    "plt.show()\n"
   ]
  },
  {
   "cell_type": "markdown",
   "id": "0f317423",
   "metadata": {},
   "source": [
    "**KNN Confusion matrix test set summary**\n",
    "* True Positives (When the user dislikes the movie and the algorithm predicts correctly) = 4337  \n",
    "* True Negatives (When the user liked the movie and the algorithm predicts correctly) = 7687 \n",
    "* False Positives (When the user didn't the movie but the algorithm said it did)  = 4507\n",
    "* False Negatives (When the user liked the movie and the algorithm said it didnt) = 3469   \n",
    "\n",
    "There were **4337 True Positives**, users who didn't like the movie that were correctly classified and **7687 True Negatives**, users who liked the movie that were correctly classified. However, the algorithm misclasified **3469** users that liked the movie by saying that they did not **(False Negatives)**, and the algorithm misclassified **4507** users that liked the movie by saying they didn't **(False Positives)**."
   ]
  },
  {
   "cell_type": "markdown",
   "id": "afb2651b",
   "metadata": {},
   "source": [
    "### Comparison Between the two Predictive Models"
   ]
  },
  {
   "cell_type": "code",
   "execution_count": null,
   "id": "da1f739f",
   "metadata": {},
   "outputs": [],
   "source": [
    "fig, (ax1, ax2) = plt.subplots(1, 2,figsize=(15,6))\n",
    "fig.suptitle(\"KNN & Logistic Regression Accuracy Comparison\",size=15)\n",
    "\n",
    "data = [Regression_AccuracyScore, KNN_AccuracyScore]\n",
    "labels = ['Regression_Accuracy', 'KNN_Accuracy']\n",
    "\n",
    "#define Seaborn color palette to use\n",
    "colors = sns.color_palette('deep')[0:5]\n",
    "\n",
    "#create pie chart\n",
    "ax1.pie(data, labels = labels, colors = colors, autopct='')\n",
    "sns.barplot(data,labels,ax=ax2)\n",
    "plt.show()"
   ]
  },
  {
   "cell_type": "markdown",
   "id": "5edb9e15",
   "metadata": {},
   "source": [
    "### Observation \n",
    "\n",
    "As seen in the figures above, the accuracy score of KNN model (0.60) is slightly better than that of the Logistic Regression (0.55) based on the testing sets."
   ]
  },
  {
   "cell_type": "markdown",
   "id": "73283138",
   "metadata": {},
   "source": [
    "### Confusion Matrix Comparison"
   ]
  },
  {
   "cell_type": "code",
   "execution_count": null,
   "id": "1bb17bda",
   "metadata": {
    "scrolled": false
   },
   "outputs": [],
   "source": [
    "fig, (ax1, ax2) = plt.subplots(1, 2,figsize=(15,6))\n",
    "fig.suptitle(\"Confusion Matrix Comparison \",size=15)\n",
    "fig.suptitle(\"K-Nearest Neighbors Accuracy Consfusion Matrix                    Logistic Regression Accuracy Confusion Matrix \",size=13.7)\n",
    "data = {'y_Actual':    Y_test2,\n",
    "        'y_Predicted': Y_pred\n",
    "        }\n",
    "data1 = {'y_Actual':    y_test1,\n",
    "        'y_Predicted': y_hat_test1\n",
    "        }\n",
    "\n",
    "df = pd.DataFrame(data, columns=['y_Actual','y_Predicted'])\n",
    "confusion_matrix = pd.crosstab(df['y_Actual'], df['y_Predicted'], rownames=['Actual'], colnames=['Predicted'])\n",
    "sns.heatmap(confusion_matrix, annot=True,fmt='', cmap='Blues',ax=ax1)\n",
    "\n",
    "df1 = pd.DataFrame(data1, columns=['y_Actual','y_Predicted'])\n",
    "confusion_matrix = pd.crosstab(df1['y_Actual'], df1['y_Predicted'], rownames=['Actual'], colnames=['Predicted'])\n",
    "sns.heatmap(confusion_matrix, annot=True,fmt='', cmap='Blues',ax =ax2)\n",
    "plt.show()"
   ]
  },
  {
   "cell_type": "markdown",
   "id": "9d6692fc",
   "metadata": {},
   "source": [
    "### Observation\n",
    "* K-Nearest Neighbors was better than the Logistic regression at predicting users who didn't like the movie (**4337** vs **0**)\n",
    "* Logistic regression was better than KNN at predicting users who liked the movie (**11156** vs **7687**)\n",
    "* K-Nearest Neighbors had way lower false Positives in comparison to the Logistic Regression (**4507** vs **8844**)\n",
    "* Logistic regression model had 0 false negatives whereas the KNN had 3469."
   ]
  },
  {
   "cell_type": "markdown",
   "id": "848c03a1",
   "metadata": {},
   "source": [
    "### Evaluation and Analysis\n",
    "For the KNN Confusion matrix, there were few type I and type II errors (False positive, False Negative), and around 60% of the prediction consisted of accurate predictions (True Positives, True Negatives).\n",
    "\n",
    "In the case of the Regression Confusion matrix, there were 0 True positive and False Negative results because the model predicted the feedback value to be 1 every time. This resulted around 55% of the prediction to be accurate. There is a bit of bias in the model caused by imbalances in the samples of target variable. The logistic model would'nt perform well if it used to predict feedback values which are 0.\n",
    "\n"
   ]
  },
  {
   "cell_type": "markdown",
   "id": "621fa864",
   "metadata": {},
   "source": [
    "### Conclusion\n",
    "* Logistic Regression models predicts the value of feedback to be 1 every time.\n",
    "* KNN bases its prediction by taking the attributes to its nearest neighbors, therefore, the predictions consists of both 0-1 value of feedback.\n",
    "* The accuracy score of KNN model seems to be higher than the Logistic Regression model by more than 4%. Therefore, this model seems to perform better in terms of accuracy.\n"
   ]
  }
 ],
 "metadata": {
  "kernelspec": {
   "display_name": "Python 3 (ipykernel)",
   "language": "python",
   "name": "python3"
  },
  "language_info": {
   "codemirror_mode": {
    "name": "ipython",
    "version": 3
   },
   "file_extension": ".py",
   "mimetype": "text/x-python",
   "name": "python",
   "nbconvert_exporter": "python",
   "pygments_lexer": "ipython3",
   "version": "3.9.7"
  }
 },
 "nbformat": 4,
 "nbformat_minor": 5
}
