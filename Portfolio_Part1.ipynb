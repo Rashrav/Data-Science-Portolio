{
 "cells": [
  {
   "cell_type": "markdown",
   "id": "03bfe56f",
   "metadata": {},
   "source": [
    "### Analysis of MovieLens Data\n",
    "\n",
    "We are provided with the MovieLens data collected by the GroupLens Research Project at the University of Minnesota.\n",
    "In particular, the data was collected through the MovieLens web site (movielens.umn.edu), which records a number of users' ratings (1-5) towards their watched movies. Besides, simple demographic info (e.g., age and gender) for the users and descriptive info (e.g., title and genre) for the movies are provided. \n",
    "\n",
    "Originally, there are several separate files to record the user-movie rating info, user demographic info and movie descriptive info, we have conducted preliminary processing to map and merge the data into one csv file named 'movielens_data.csv'. The header of the csv file is shown below. \n",
    "\n",
    "| userId | age | gender | occupation| movieId | rating | genre | timestamp |\n",
    "    | ---- | ---- | ---- | ---- | ---- | ---- | ---- | ---- | \n",
    "    \n",
    "#### Description of Fields\n",
    "\n",
    "* __userId__ - the user's id\n",
    "* __age__ - the user's age\n",
    "* __gender__ - the user's gender\n",
    "* __occupation__ - the user's occupation\n",
    "* __movieId__ - the movie's id\n",
    "* __rating__ - the user's rating towards the movie\n",
    "* __genre__ - the genre of the movie\n",
    "* __timestamp__ - the timestamp indicating when the user rated the movie\n",
    "\n",
    "Note that, a same user (i.e., a same userId) corresponds to a same age/gender/occupation; a same movie (i.e., a same movieId) corresponds to a same genre; a same user (i.e., a same userId) may rate multiple movies and a same movie (i.e., a same movieId) may receive ratings from multiple users.\n",
    "\n",
    "There are four questions to explore with the data as shown below."
   ]
  },
  {
   "cell_type": "code",
   "execution_count": 2,
   "id": "68f00dc7",
   "metadata": {},
   "outputs": [],
   "source": [
    "# importing libraries\n",
    "import numpy as np\n",
    "import pandas as pd\n",
    "import matplotlib.pyplot as plt\n",
    "%matplotlib inline\n",
    "import seaborn as sns"
   ]
  },
  {
   "cell_type": "code",
   "execution_count": 22,
   "id": "f21a420c",
   "metadata": {},
   "outputs": [],
   "source": [
    "#rawdf is the uncleaned dataframe\n",
    "rawdf = pd.read_csv('files/movielens_data.csv') "
   ]
  },
  {
   "cell_type": "markdown",
   "id": "55934c71",
   "metadata": {},
   "source": [
    " #### Q1. Remove missing data\n",
    " \n",
    "Please remove the following records in the csv file: \n",
    " \n",
    " * age/gender/rating is missing\n",
    " * occupation is 'none'\n",
    "\n",
    "__Print the length of the data__ before and after removing the missing data.  "
   ]
  },
  {
   "cell_type": "code",
   "execution_count": 4,
   "id": "b2f0a9f6",
   "metadata": {},
   "outputs": [
    {
     "name": "stdout",
     "output_type": "stream",
     "text": [
      "Data Length Before Filtering | (Rows, Columns): 100000\n"
     ]
    }
   ],
   "source": [
    "## Length of the Data before removing the missing values\n",
    "print(\"Data Length Before Filtering | (Rows, Columns):\",len(rawdf))"
   ]
  },
  {
   "cell_type": "code",
   "execution_count": 5,
   "id": "d54ae3cc",
   "metadata": {},
   "outputs": [
    {
     "name": "stdout",
     "output_type": "stream",
     "text": [
      "Data Length After Filtering | (Rows, Columns): 99022\n",
      "Filtered Out Data 978\n"
     ]
    }
   ],
   "source": [
    "#Q1 Remove missing data\n",
    "ageNotNull= rawdf['age'].notnull() #Storing all conditions in a variable for better readility\n",
    "genderNotNull = rawdf['gender'].notnull() \n",
    "ratingNotNull = rawdf['rating'].notnull()\n",
    "occupationNotNone = rawdf[\"occupation\"]!=\"none\"\n",
    "\n",
    "df = rawdf[ageNotNull& genderNotNull & ratingNotNull & occupationNotNone] #df will be the filtered Dataframe\n",
    "\n",
    "print(\"Data Length After Filtering | (Rows, Columns):\",len(df)) #Length of the data after removing missing values\n",
    "print(\"Filtered Out Data\",len(rawdf)-len(df)) #Length of the data after removing missing values"
   ]
  },
  {
   "cell_type": "markdown",
   "id": "7e2cf26f",
   "metadata": {},
   "source": [
    "* 978 rows were filtered out because of missing values. "
   ]
  },
  {
   "cell_type": "markdown",
   "id": "063e08bf",
   "metadata": {},
   "source": [
    "#### Q2. Descriptive statistics\n",
    "\n",
    "With the cleaned data in Q1, please provide the data summarization as below:\n",
    "\n",
    "* Q2.1 total number of unique users, unique occupations, unique movies, and unique genres\n",
    "* Q2.2 descriptive statistics, e.g., the total number, mean, std, min and max regarding all rating records\n",
    "* Q2.3 descriptive statistics, e.g., mean, std, max, and min of the number of movies rated by each user \n",
    "* Q2.4 descriptive statistics, e.g., mean, std, max, min of the number of ratings that received by each movie \n"
   ]
  },
  {
   "cell_type": "code",
   "execution_count": 6,
   "id": "d7662c9a",
   "metadata": {},
   "outputs": [
    {
     "name": "stdout",
     "output_type": "stream",
     "text": [
      "Total Unique Users: 934\n",
      "Total Unique Occupations: 20\n",
      "Total Unique Movies: 1682\n",
      "Total Unique Genres: 19\n"
     ]
    }
   ],
   "source": [
    "# Q2.1 total number of unique users, unique occupations, unique movies, and unique genres\n",
    "print(\"Total Unique Users:\",df['userId'].nunique()) #nunique function counts the unique values.\n",
    "print(\"Total Unique Occupations:\", df['occupation'].nunique())\n",
    "print(\"Total Unique Movies:\",df['movieId'].nunique())\n",
    "print(\"Total Unique Genres:\",df['genre'].nunique()) "
   ]
  },
  {
   "cell_type": "code",
   "execution_count": 7,
   "id": "ce104573",
   "metadata": {},
   "outputs": [
    {
     "name": "stdout",
     "output_type": "stream",
     "text": [
      "Ratings\n",
      "Total number: 99022\n",
      "Mean: 3.5277918038415708\n",
      "Standard Deviation: 1.1257428690692985\n",
      "Maximum Rating: 5.0\n",
      "Minimum Rating: 1.0\n"
     ]
    }
   ],
   "source": [
    "# Q2.2 descriptive statistics, e.g., the total number, mean, std, min and max regarding all rating records\n",
    "print(\"Ratings\")\n",
    "print(\"Total number:\",df['rating'].count())\n",
    "print(\"Mean:\",df['rating'].mean())\n",
    "print(\"Standard Deviation:\",df['rating'].std())\n",
    "print(\"Maximum Rating:\",df['rating'].max())\n",
    "print(\"Minimum Rating:\",df['rating'].min())\n",
    "\n",
    "# using df.rating.describe() was also possible for this question but individual functions were used for better readability"
   ]
  },
  {
   "cell_type": "code",
   "execution_count": 8,
   "id": "5297dcdb",
   "metadata": {},
   "outputs": [
    {
     "data": {
      "text/plain": [
       "count    934.000000\n",
       "mean     106.019272\n",
       "std      100.793963\n",
       "min       19.000000\n",
       "25%       33.000000\n",
       "50%       65.000000\n",
       "75%      148.000000\n",
       "max      736.000000\n",
       "Name: moviesRated, dtype: float64"
      ]
     },
     "execution_count": 8,
     "metadata": {},
     "output_type": "execute_result"
    }
   ],
   "source": [
    "#Q2.3 descriptive statistics, e.g., mean, std, max, and min of the number of movies rated by each user\n",
    "gd = df.groupby( [\"userId\"] ) #group by function is used and stored in the variable gd.\n",
    "user_movies=pd.DataFrame(gd.size().reset_index(name = \"moviesRated\")) #The grouped data is converted into a dataframe and the movies are counted.\n",
    "user_movies['moviesRated'].describe() #The describe function is used to display the descriptive statistics"
   ]
  },
  {
   "cell_type": "markdown",
   "id": "1302c43b",
   "metadata": {},
   "source": [
    "**Question 2.4 follows the same process as question 2.3**"
   ]
  },
  {
   "cell_type": "code",
   "execution_count": 9,
   "id": "f4977518",
   "metadata": {},
   "outputs": [
    {
     "data": {
      "text/plain": [
       "count    1682.000000\n",
       "mean       58.871581\n",
       "std        79.629796\n",
       "min         1.000000\n",
       "25%         6.000000\n",
       "50%        26.000000\n",
       "75%        79.000000\n",
       "max       578.000000\n",
       "Name: num_rating, dtype: float64"
      ]
     },
     "execution_count": 9,
     "metadata": {},
     "output_type": "execute_result"
    }
   ],
   "source": [
    "#Q2.4 descriptive statistics, e.g., mean, std, max, min of the number of ratings that is received by each movie\n",
    "gd1 = df.groupby( [\"movieId\"] ) #group by function is used and stored in the variable gd1.\n",
    "movies_rating=pd.DataFrame(gd1.size().reset_index(name = \"num_rating\")) #The grouped data is converted into a dataframe and the movies are counted.\n",
    "movies_rating['num_rating'].describe() #Descriptive statistics is displayed"
   ]
  },
  {
   "cell_type": "markdown",
   "id": "dd52b367",
   "metadata": {},
   "source": [
    "**Some movies had very few reviews. These outliers will be remove in further process**"
   ]
  },
  {
   "cell_type": "markdown",
   "id": "7b070d5d",
   "metadata": {},
   "source": [
    "#### Q3. Plotting and Analysis\n",
    "\n",
    "Please try to explore the correlation between gender/occupation/genre and ratings; for instance, do female/male users tend to provide higher ratings than male/female users? Hint: you may use the boxplot function to plot figures for comparison (___Challenge___)\n",
    "    \n",
    "You may need to select the most suitable graphic forms for ease of presentation. Most importantly, for each figure or subfigure, please summarise ___what each plot shows___ (i.e. observations and explanations). Finally, you may need to provide an overall summary of the data."
   ]
  },
  {
   "cell_type": "markdown",
   "id": "8e520723",
   "metadata": {},
   "source": [
    "### Boxplot based on Gender and its Ratings"
   ]
  },
  {
   "cell_type": "code",
   "execution_count": 10,
   "id": "6c42c9c2",
   "metadata": {
    "scrolled": false
   },
   "outputs": [
    {
     "data": {
      "image/png": "[encoded data removed]",
      "text/plain": [
       "<Figure size 360x504 with 1 Axes>"
      ]
     },
     "metadata": {
      "needs_background": "light"
     },
     "output_type": "display_data"
    }
   ],
   "source": [
    "plt.figure(figsize=(5,7)) #Setting the size of the figure\n",
    "sns.set_style(\"darkgrid\") #Gives us a dark grid background\n",
    "box_plot= sns.boxplot(x='gender', y='rating',data=df, showmeans = True, medianprops={'color': 'red', 'ls': ':', 'lw': 3}) \n",
    "#The above code creates a boxplot.\n",
    "\n",
    "# Code to show the median and mean value on the boxplot\n",
    "# Code reference: https://stackoverflow.com/questions/38649501/labeling-boxplot-in-seaborn-with-median-value\n",
    "medians = df.groupby(['gender'])['rating'].median() #Calculate the median and stores int in variable medians\n",
    "vertical_offset = df['rating'].median() * 0.05 # offset from median for display\n",
    "\n",
    "for xtick in box_plot.get_xticks():\n",
    "    box_plot.text(xtick,medians[xtick] - vertical_offset,medians[xtick], \n",
    "            horizontalalignment='center',size=12,color='white',weight='bold')\n",
    "    \n",
    "means = df.groupby(['gender'])['rating'].mean() #Calculate the mean and stores int in variable means\n",
    "means = means.round(3) #Rounding mean to 3 Decimal Place\n",
    "vertical_offset1 = df['rating'].mean() * 0.05 # offset from mean for display\n",
    "\n",
    "for xtick1 in box_plot.get_xticks():\n",
    "    box_plot.text(xtick1,means[xtick1] - vertical_offset1,means[xtick1], \n",
    "            horizontalalignment='center',size=12,color='Yellow',weight='bold')"
   ]
  },
  {
   "cell_type": "markdown",
   "id": "73c4a879",
   "metadata": {},
   "source": [
    "#### Observation and Findings\n",
    "The horizontal box-plot above helps us investigate the correlation between gender and ratings. The figure for both male and female seems identical as we do not see any visual evidence which suggests that a certain gender gave higher average ratings. The red probs in the diagram shows the median of the boxplot which is 4.0 for both males and females. The exact median value is also shown in the white text below the probs. The mean is shown by a small green triangle  which appears to be the same for both genders. However, if we take the exact value of the mean into account (Shown by the yellow text), we noticed that females  had a higher average rating (3.527) than males (3.531). Although the differences between the mean isn't very large, we can conclude that females tend to give higher ratings based on the mean value calculated."
   ]
  },
  {
   "cell_type": "markdown",
   "id": "77de4d2b",
   "metadata": {},
   "source": [
    "### Histogram based on Gender and its Ratings"
   ]
  },
  {
   "cell_type": "code",
   "execution_count": 11,
   "id": "a8a7a939",
   "metadata": {},
   "outputs": [
    {
     "name": "stdout",
     "output_type": "stream",
     "text": [
      "Male users: 73669\n",
      "Female users: 25353\n"
     ]
    },
    {
     "data": {
      "image/png": "[encoded data removed]",
      "text/plain": [
       "<Figure size 360x360 with 1 Axes>"
      ]
     },
     "metadata": {},
     "output_type": "display_data"
    }
   ],
   "source": [
    "plt.figure(figsize=(5,5)) #Figure Size\n",
    "sns.histplot(x='rating',data=df,binwidth=1,binrange=(1,6),stat='count',hue='gender',element='step',palette=\"bright\");\n",
    "#Histogram Code\n",
    "\n",
    "print(\"Male users:\",len(df[df['gender']=='M'])) #Prints the number of male users\n",
    "print(\"Female users:\",len(df[df['gender']=='F'])) #Prints the number of male users"
   ]
  },
  {
   "cell_type": "markdown",
   "id": "d227abed",
   "metadata": {},
   "source": [
    "#### Observation\n",
    "Looking at the histogram shown in the figure above, we can observe that both the histogram has a similar shape, however, the size of males were way bigger than that of females. Upon calling the len function, we can conclude that there are more male users (73,669) than female (25,353)."
   ]
  },
  {
   "cell_type": "markdown",
   "id": "5af830d7",
   "metadata": {},
   "source": [
    "## Boxplot based on Genre and its Ratings"
   ]
  },
  {
   "cell_type": "code",
   "execution_count": 12,
   "id": "c4dc9aca",
   "metadata": {
    "scrolled": false
   },
   "outputs": [
    {
     "data": {
      "image/png": "[encoded data removed]",
      "text/plain": [
       "<Figure size 1224x720 with 1 Axes>"
      ]
     },
     "metadata": {},
     "output_type": "display_data"
    }
   ],
   "source": [
    "plt.figure(figsize=(17,10)) #Figure Size\n",
    "genre_box_plot=sns.boxplot(x='genre', y='rating',data=df, showmeans=True,medianprops={'color': 'black', 'ls': ':', 'lw': 3})\n",
    "#Boxplot created and stored in the variable genre_box_plot\n",
    "\n",
    "# Code to show the median and mean value on the boxplot\n",
    "# Code reference: https://stackoverflow.com/questions/38649501/labeling-boxplot-in-seaborn-with-median-value\n",
    "genreMedians = df.groupby(['genre'])['rating'].median() #Calculates the median and stores it in genreMedians\n",
    "genre_offset = df['rating'].median() * 0.03 # offset from median for display\n",
    "\n",
    "for xtick in genre_box_plot.get_xticks(): #Displays the median value in each boxplot through a loop\n",
    "    genre_box_plot.text(xtick,genreMedians[xtick] - genre_offset,genreMedians[xtick], \n",
    "            horizontalalignment='center',size=12,color='Black',weight='bold')\n",
    "    \n",
    "genreMeans = df.groupby(['genre'])['rating'].mean()\n",
    "genreMeans = genreMeans.round(3)\n",
    "genre_offset1 = df['rating'].mean() * 0.02 # offset from mean for display\n",
    "\n",
    "for xtick in genre_box_plot.get_xticks(): #Displays the mean value in each boxplot through a loop\n",
    "    genre_box_plot.text(xtick,genreMeans[xtick] - genre_offset1,genreMeans[xtick], \n",
    "            horizontalalignment='center',size=12,color='Blue',weight='bold')\n",
    "    \n"
   ]
  },
  {
   "cell_type": "markdown",
   "id": "ecc78376",
   "metadata": {},
   "source": [
    "#### Observation and Findings\n",
    "The horizontal box-plot above helps us investigate the correlation between genre and ratings. Looking at a first glance, we notice that genres such as War, Crime, Documentary and Film-Noir had the highest range compared to the other genres. The blue text inside the box-plot gives us the value of the mean while the black text provides us the median value. Looking at the medians, genres such as war, adventure, crime, documentary and Western had lower median value (3) which might suggest that these genres are less liked. Looking at the mean value, we can see that Musical genre (3.815) followed by fantasy (3.736) had the highest average rating whereas the War genre had the lowest rating mean (3.28). This data might suggest that people love musical and fantasy genre as they might allow them to engage and experiment with different ways of seeing the world. The reason for war related movies having lower ratings might be because it contains violence and it might not be suitable for all ages."
   ]
  },
  {
   "cell_type": "code",
   "execution_count": 13,
   "id": "6c32143f",
   "metadata": {},
   "outputs": [
    {
     "data": {
      "image/png": "[encoded data removed]",
      "text/plain": [
       "<Figure size 1440x1008 with 1 Axes>"
      ]
     },
     "metadata": {},
     "output_type": "display_data"
    }
   ],
   "source": [
    "plt.figure(figsize=(20,14)) #Figure Size\n",
    "occupation_box_plot=sns.boxplot(x='occupation', y='rating',data=df,showmeans=True,medianprops={'color': 'black', 'ls': ':', 'lw': 3})\n",
    "\n",
    "# Code to show the median and mean value on the boxplot\n",
    "# Code reference: https://stackoverflow.com/questions/38649501/labeling-boxplot-in-seaborn-with-median-value\n",
    "occupationMedians = df.groupby(['occupation'])['rating'].median()\n",
    "occupation_offset = df['rating'].median() * 0.015 # offset from median for display\n",
    "\n",
    "for xtick in occupation_box_plot.get_xticks():\n",
    "    occupation_box_plot.text(xtick,occupationMedians[xtick] - occupation_offset,occupationMedians[xtick], \n",
    "            horizontalalignment='center',size=12,color='Black',weight='bold')\n",
    "    \n",
    "occupationMeans = df.groupby(['occupation'])['rating'].mean()\n",
    "occupationMeans = occupationMeans.round(3)\n",
    "occupation_offset1 = df['rating'].mean() * 0.04 # offset from mean for display\n",
    "\n",
    "for xtick in occupation_box_plot.get_xticks():\n",
    "    occupation_box_plot.text(xtick,occupationMeans[xtick] + occupation_offset1,occupationMeans[xtick], \n",
    "            horizontalalignment='center',size=12,color='Maroon',weight='bold')\n",
    "    "
   ]
  },
  {
   "cell_type": "markdown",
   "id": "02443f75",
   "metadata": {},
   "source": [
    "#### Observation and Findings\n",
    "The horizontal box-plot above helps us investigate the correlation between occupation and ratings. On a first glance, we notice that user with occupation such as executive, artist, lawyer and healthcare had the highest variability. The maroon text provides us the value of the mean while the black text shows us the median value. We cannot get a lot of information from the medians as the value ranges from 3-4 only. Therefore, it is easier to compare while looking at the mean. We can observe that doctors gave the highest average rating (3.735) while engineers gave the lowest mean rating (2.897). However, while looking at the mean, we should also take sample size into account and remove outliers. For example, if a user has revied only one movie and given it a 5 star, then his mean rating would be 5 (The highest). Outliers such as these should be removed. This is done in the following section of the assignment."
   ]
  },
  {
   "cell_type": "markdown",
   "id": "1d8d121f",
   "metadata": {},
   "source": [
    "#### Q4. Detect and remove outliers\n",
    "\n",
    "We may define outlier users and movies with three rules:\n",
    "\n",
    "* users whose age is no more than 10\n",
    "* users who rate less than 20 movies\n",
    "* movies that receives less than 10 ratings (i.e., movies that are rated by less than 10 users)\n",
    " \n",
    "Please remove the corresponding records in the csv file that involves outlier users and movies. After that, __print the length of the data__."
   ]
  },
  {
   "cell_type": "code",
   "execution_count": 14,
   "id": "1d99ecc9",
   "metadata": {},
   "outputs": [
    {
     "name": "stdout",
     "output_type": "stream",
     "text": [
      "Number of Users whose age is no more than 10: 74\n",
      "Previous mean: 33.04260669346206\n",
      "Current mean: 33.06114322674536\n",
      "Previous Length: 99022\n",
      "Current Length: 98948\n",
      "Filtered out rows: 74\n"
     ]
    }
   ],
   "source": [
    "# Q4.1 users whose age is no more than 10\n",
    "age_outlier=df.index[df['age']<=10] #Condition for age outlier is stored in a variable for better readability\n",
    "df2 = df.drop(age_outlier) #df2 is the new filtered dataframe which doesn't contain the age outliers\n",
    "\n",
    "#Printing the before and the after results of removing the outliers \n",
    "print(\"Number of Users whose age is no more than 10:\",len(df[df['age']<=10])) \n",
    "print(\"Previous mean:\",df['age'].mean()) \n",
    "print(\"Current mean:\",df2['age'].mean())\n",
    "print(\"Previous Length:\",len(df))\n",
    "print(\"Current Length:\",len(df2))\n",
    "print(\"Filtered out rows:\",len(df)-len(df2))\n",
    "\n"
   ]
  },
  {
   "cell_type": "markdown",
   "id": "b94e1003",
   "metadata": {},
   "source": [
    "* 74 outliers were filtered out"
   ]
  },
  {
   "cell_type": "code",
   "execution_count": 15,
   "id": "7e3e4706",
   "metadata": {},
   "outputs": [
    {
     "name": "stdout",
     "output_type": "stream",
     "text": [
      "Previous mean: 33.06114322674536\n",
      "Current mean: 33.05846617270972\n",
      "Previous Length: 98948\n",
      "Current Length: 98929\n",
      "Filtered out rows: 19\n"
     ]
    }
   ],
   "source": [
    "# Q4.2 users who rate less than 20 movies\n",
    "grouped_data = df2.groupby( [\"userId\"] ) #grouped_data variable used to store the group by series\n",
    "gdf=pd.DataFrame(grouped_data.size().reset_index(name = \"Group_Count\")) #converting the series into a dataframe\n",
    "gdf=gdf[gdf['Group_Count']>=20] #This dataframe contains all users whose has rated equal to or more than 20 movies (No outliers).\n",
    "df3 = df2[df2.userId.isin(gdf.userId)] \n",
    "'''df3 will only contain the data of the userId present in the gdf dataframe. \n",
    "This means the outliers (users rating less than 20 movies) are filtered out.'''\n",
    "\n",
    "#Printing the before and the after results of removing the outliers \n",
    "print(\"Previous mean:\",df2['age'].mean()) \n",
    "print(\"Current mean:\",df3['age'].mean())\n",
    "print(\"Previous Length:\",len(df2))\n",
    "print(\"Current Length:\",len(df3))\n",
    "print(\"Filtered out rows:\",len(df2)-len(df3))"
   ]
  },
  {
   "cell_type": "markdown",
   "id": "01cceb76",
   "metadata": {},
   "source": [
    "* 19 outliers were filtered out"
   ]
  },
  {
   "cell_type": "code",
   "execution_count": 16,
   "id": "6a4d5dfc",
   "metadata": {},
   "outputs": [
    {
     "name": "stdout",
     "output_type": "stream",
     "text": [
      "Previous mean: 33.05846617270972\n",
      "Current mean: 33.14249625441541\n",
      "Previous Length: 98929\n",
      "Current Length: 91441\n",
      "Filtered out rows: 7488\n"
     ]
    }
   ],
   "source": [
    "# Q4.3 movies that receives less than 10 ratings (i.e., movies that are rated by less than 10 users)\n",
    "grouped_data2 = df3.groupby( [\"movieId\"] ) #grouped_data2 sotres the group by series of df3\n",
    "\n",
    "gdf2=pd.DataFrame(grouped_data2.size().reset_index(name = \"User_Count\")) #grouped_data2 is put into a dataframe gdf2\n",
    "gdf2=gdf2[gdf2['User_Count']>9] #gdf contains data with no outliers (movies that receives less than 10 ratings)\n",
    "df4 = df3[df3.userId.isin(gdf2.movieId)]\n",
    "'''df4 will only contain the data of the movieId present in the gdf2 dataframe. \n",
    "This means the outliers (movies rated by less than 10 users) are filtered out.'''\n",
    "\n",
    "#Printing the before and the after results of removing the outliers \n",
    "print(\"Previous mean:\",df3['age'].mean()) \n",
    "print(\"Current mean:\",df4['age'].mean())\n",
    "print(\"Previous Length:\",len(df3))\n",
    "print(\"Current Length:\",len(df4))\n",
    "print(\"Filtered out rows:\",len(df3)-len(df4))"
   ]
  },
  {
   "cell_type": "code",
   "execution_count": 17,
   "id": "3efd044f",
   "metadata": {},
   "outputs": [
    {
     "name": "stdout",
     "output_type": "stream",
     "text": [
      "Filtered out: 7488\n"
     ]
    }
   ],
   "source": [
    "#Checking the number of outliers removed\n",
    "print(\"Filtered out:\",len(df3)-len(df4))"
   ]
  },
  {
   "cell_type": "markdown",
   "id": "be4c29b3",
   "metadata": {},
   "source": [
    "* 7488 outliers were filtered out"
   ]
  },
  {
   "cell_type": "code",
   "execution_count": 18,
   "id": "e451388d",
   "metadata": {},
   "outputs": [
    {
     "data": {
      "text/html": [
       "<div>\n",
       "<style scoped>\n",
       "    .dataframe tbody tr th:only-of-type {\n",
       "        vertical-align: middle;\n",
       "    }\n",
       "\n",
       "    .dataframe tbody tr th {\n",
       "        vertical-align: top;\n",
       "    }\n",
       "\n",
       "    .dataframe thead th {\n",
       "        text-align: right;\n",
       "    }\n",
       "</style>\n",
       "<table border=\"1\" class=\"dataframe\">\n",
       "  <thead>\n",
       "    <tr style=\"text-align: right;\">\n",
       "      <th></th>\n",
       "      <th>userId</th>\n",
       "      <th>age</th>\n",
       "      <th>gender</th>\n",
       "      <th>occupation</th>\n",
       "      <th>movieId</th>\n",
       "      <th>rating</th>\n",
       "      <th>genre</th>\n",
       "      <th>timestamp</th>\n",
       "    </tr>\n",
       "  </thead>\n",
       "  <tbody>\n",
       "    <tr>\n",
       "      <th>0</th>\n",
       "      <td>196</td>\n",
       "      <td>49.0</td>\n",
       "      <td>M</td>\n",
       "      <td>writer</td>\n",
       "      <td>242</td>\n",
       "      <td>3.0</td>\n",
       "      <td>Comedy</td>\n",
       "      <td>881250949</td>\n",
       "    </tr>\n",
       "    <tr>\n",
       "      <th>2</th>\n",
       "      <td>22</td>\n",
       "      <td>25.0</td>\n",
       "      <td>M</td>\n",
       "      <td>writer</td>\n",
       "      <td>377</td>\n",
       "      <td>1.0</td>\n",
       "      <td>Children</td>\n",
       "      <td>878887116</td>\n",
       "    </tr>\n",
       "    <tr>\n",
       "      <th>3</th>\n",
       "      <td>244</td>\n",
       "      <td>28.0</td>\n",
       "      <td>M</td>\n",
       "      <td>technician</td>\n",
       "      <td>51</td>\n",
       "      <td>2.0</td>\n",
       "      <td>Romance</td>\n",
       "      <td>880606923</td>\n",
       "    </tr>\n",
       "    <tr>\n",
       "      <th>5</th>\n",
       "      <td>298</td>\n",
       "      <td>44.0</td>\n",
       "      <td>M</td>\n",
       "      <td>executive</td>\n",
       "      <td>474</td>\n",
       "      <td>4.0</td>\n",
       "      <td>War</td>\n",
       "      <td>884182806</td>\n",
       "    </tr>\n",
       "    <tr>\n",
       "      <th>7</th>\n",
       "      <td>253</td>\n",
       "      <td>26.0</td>\n",
       "      <td>F</td>\n",
       "      <td>librarian</td>\n",
       "      <td>465</td>\n",
       "      <td>5.0</td>\n",
       "      <td>Adventure</td>\n",
       "      <td>891628467</td>\n",
       "    </tr>\n",
       "    <tr>\n",
       "      <th>...</th>\n",
       "      <td>...</td>\n",
       "      <td>...</td>\n",
       "      <td>...</td>\n",
       "      <td>...</td>\n",
       "      <td>...</td>\n",
       "      <td>...</td>\n",
       "      <td>...</td>\n",
       "      <td>...</td>\n",
       "    </tr>\n",
       "    <tr>\n",
       "      <th>99995</th>\n",
       "      <td>880</td>\n",
       "      <td>13.0</td>\n",
       "      <td>M</td>\n",
       "      <td>student</td>\n",
       "      <td>476</td>\n",
       "      <td>3.0</td>\n",
       "      <td>Comedy</td>\n",
       "      <td>880175444</td>\n",
       "    </tr>\n",
       "    <tr>\n",
       "      <th>99996</th>\n",
       "      <td>716</td>\n",
       "      <td>36.0</td>\n",
       "      <td>F</td>\n",
       "      <td>administrator</td>\n",
       "      <td>204</td>\n",
       "      <td>5.0</td>\n",
       "      <td>Sci-Fi</td>\n",
       "      <td>879795543</td>\n",
       "    </tr>\n",
       "    <tr>\n",
       "      <th>99997</th>\n",
       "      <td>276</td>\n",
       "      <td>21.0</td>\n",
       "      <td>M</td>\n",
       "      <td>student</td>\n",
       "      <td>1090</td>\n",
       "      <td>1.0</td>\n",
       "      <td>Thriller</td>\n",
       "      <td>874795795</td>\n",
       "    </tr>\n",
       "    <tr>\n",
       "      <th>99998</th>\n",
       "      <td>13</td>\n",
       "      <td>47.0</td>\n",
       "      <td>M</td>\n",
       "      <td>educator</td>\n",
       "      <td>225</td>\n",
       "      <td>2.0</td>\n",
       "      <td>Comedy</td>\n",
       "      <td>882399156</td>\n",
       "    </tr>\n",
       "    <tr>\n",
       "      <th>99999</th>\n",
       "      <td>12</td>\n",
       "      <td>28.0</td>\n",
       "      <td>F</td>\n",
       "      <td>other</td>\n",
       "      <td>203</td>\n",
       "      <td>3.0</td>\n",
       "      <td>Western</td>\n",
       "      <td>879959583</td>\n",
       "    </tr>\n",
       "  </tbody>\n",
       "</table>\n",
       "<p>91441 rows × 8 columns</p>\n",
       "</div>"
      ],
      "text/plain": [
       "       userId   age gender     occupation  movieId  rating      genre  \\\n",
       "0         196  49.0      M         writer      242     3.0     Comedy   \n",
       "2          22  25.0      M         writer      377     1.0   Children   \n",
       "3         244  28.0      M     technician       51     2.0    Romance   \n",
       "5         298  44.0      M      executive      474     4.0        War   \n",
       "7         253  26.0      F      librarian      465     5.0  Adventure   \n",
       "...       ...   ...    ...            ...      ...     ...        ...   \n",
       "99995     880  13.0      M        student      476     3.0     Comedy   \n",
       "99996     716  36.0      F  administrator      204     5.0     Sci-Fi   \n",
       "99997     276  21.0      M        student     1090     1.0   Thriller   \n",
       "99998      13  47.0      M       educator      225     2.0     Comedy   \n",
       "99999      12  28.0      F          other      203     3.0    Western   \n",
       "\n",
       "       timestamp  \n",
       "0      881250949  \n",
       "2      878887116  \n",
       "3      880606923  \n",
       "5      884182806  \n",
       "7      891628467  \n",
       "...          ...  \n",
       "99995  880175444  \n",
       "99996  879795543  \n",
       "99997  874795795  \n",
       "99998  882399156  \n",
       "99999  879959583  \n",
       "\n",
       "[91441 rows x 8 columns]"
      ]
     },
     "execution_count": 18,
     "metadata": {},
     "output_type": "execute_result"
    }
   ],
   "source": [
    "#Displaying the Final filtered Table\n",
    "df4"
   ]
  },
  {
   "cell_type": "code",
   "execution_count": 21,
   "id": "4a00967b",
   "metadata": {},
   "outputs": [],
   "source": [
    "#Saving the cleaned data for Portfolio Part 2\n",
    "df4.to_csv('files/movielens_data_clean.csv',index=False)"
   ]
  }
 ],
 "metadata": {
  "kernelspec": {
   "display_name": "Python 3 (ipykernel)",
   "language": "python",
   "name": "python3"
  },
  "language_info": {
   "codemirror_mode": {
    "name": "ipython",
    "version": 3
   },
   "file_extension": ".py",
   "mimetype": "text/x-python",
   "name": "python",
   "nbconvert_exporter": "python",
   "pygments_lexer": "ipython3",
   "version": "3.9.7"
  }
 },
 "nbformat": 4,
 "nbformat_minor": 5
}
