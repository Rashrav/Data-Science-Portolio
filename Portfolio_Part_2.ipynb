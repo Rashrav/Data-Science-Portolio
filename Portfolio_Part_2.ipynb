{
 "cells": [
  {
   "cell_type": "markdown",
   "id": "74bd35d7",
   "metadata": {},
   "source": [
    "## Portfolio Part 2"
   ]
  },
  {
   "cell_type": "markdown",
   "id": "b154a46c",
   "metadata": {},
   "source": [
    "The goal of the second Portfolio task is to train linear regression models to predict users' ratings towards movies. This involves a standard Data Science workflow: exploring data, building models, making predictions, and evaluating results. In this task, we will explore the impacts of feature selections and different sizes of training/testing data on the model performance. We will continue using the movielens dataset provided in Portfolio task 1. "
   ]
  },
  {
   "cell_type": "markdown",
   "id": "2566945d",
   "metadata": {},
   "source": [
    "### Q1: Import Cleaned MovieLens Dataset\n",
    "Save the cleaned data (i.e., after removing missing values and outliers) in the Portfolio task 1 as a csv file named 'movielens_data_clean.csv'. You may need to use the Pandas method, i.e., `to_csv`, for doing this. After that, please import the csv file (i.e., 'movielens_data_clean') and print out its total length."
   ]
  },
  {
   "cell_type": "code",
   "execution_count": 4,
   "id": "77e7deaa",
   "metadata": {},
   "outputs": [],
   "source": [
    "# importing libraries\n",
    "import numpy as np\n",
    "import pandas as pd\n",
    "import matplotlib.pyplot as plt\n",
    "%matplotlib inline\n",
    "import seaborn as sns\n",
    "from sklearn.preprocessing import OrdinalEncoder\n",
    "from sklearn.model_selection import train_test_split\n",
    "from sklearn import linear_model\n",
    "from sklearn.metrics import mean_squared_error\n",
    "from sklearn.metrics import r2_score\n",
    "import math"
   ]
  },
  {
   "cell_type": "code",
   "execution_count": 5,
   "id": "e395ec8c",
   "metadata": {},
   "outputs": [
    {
     "name": "stdout",
     "output_type": "stream",
     "text": [
      "Length: 91441\n"
     ]
    }
   ],
   "source": [
    "#Q1: Importing the cleaned dataframe\n",
    "df = pd.read_csv('files/movielens_data_clean.csv') \n",
    "print(\"Length:\",len(df))"
   ]
  },
  {
   "cell_type": "markdown",
   "id": "2a656b42",
   "metadata": {},
   "source": [
    "### Q2: Explore the Dataset\n",
    "\n",
    "\n",
    "\n",
    "* 2.1: Use the methods, i.e., `head()` and `info()`, to have a rough picture about the data, e.g., how many columns, and the data types of each column. \n",
    "* 2.2: As our goal is to predict ratings given other columns, please get the correlations between age/gender/genre/occupation and rating by using the `corr()` method.\n",
    "* 2.3: To get the correlations between different features, you may need to first convert the categorical features (i.e., gender, genre and occupation) into numerial values. For doing this, you may need to import `OrdinalEncoder` from `sklearn.preprocessing` (refer to the useful exmaples [here](https://pbpython.com/categorical-encoding.html))\n",
    "* 2.4: Please provide ___necessary explanations/analysis___ on the correlations, and figure out which are the ___most___ and ___least___ corrleated features regarding rating. Try to ___discuss___ how the correlation will affect the final prediction results, if we use these features to train a regression model for rating prediction. In what follows, we will conduct experiments to verify your hypothesis."
   ]
  },
  {
   "cell_type": "code",
   "execution_count": 6,
   "id": "b722522d",
   "metadata": {},
   "outputs": [
    {
     "data": {
      "text/html": [
       "<div>\n",
       "<style scoped>\n",
       "    .dataframe tbody tr th:only-of-type {\n",
       "        vertical-align: middle;\n",
       "    }\n",
       "\n",
       "    .dataframe tbody tr th {\n",
       "        vertical-align: top;\n",
       "    }\n",
       "\n",
       "    .dataframe thead th {\n",
       "        text-align: right;\n",
       "    }\n",
       "</style>\n",
       "<table border=\"1\" class=\"dataframe\">\n",
       "  <thead>\n",
       "    <tr style=\"text-align: right;\">\n",
       "      <th></th>\n",
       "      <th>userId</th>\n",
       "      <th>age</th>\n",
       "      <th>gender</th>\n",
       "      <th>occupation</th>\n",
       "      <th>movieId</th>\n",
       "      <th>rating</th>\n",
       "      <th>genre</th>\n",
       "      <th>timestamp</th>\n",
       "    </tr>\n",
       "  </thead>\n",
       "  <tbody>\n",
       "    <tr>\n",
       "      <th>0</th>\n",
       "      <td>196</td>\n",
       "      <td>49.0</td>\n",
       "      <td>M</td>\n",
       "      <td>writer</td>\n",
       "      <td>242</td>\n",
       "      <td>3.0</td>\n",
       "      <td>Comedy</td>\n",
       "      <td>881250949</td>\n",
       "    </tr>\n",
       "    <tr>\n",
       "      <th>1</th>\n",
       "      <td>22</td>\n",
       "      <td>25.0</td>\n",
       "      <td>M</td>\n",
       "      <td>writer</td>\n",
       "      <td>377</td>\n",
       "      <td>1.0</td>\n",
       "      <td>Children</td>\n",
       "      <td>878887116</td>\n",
       "    </tr>\n",
       "    <tr>\n",
       "      <th>2</th>\n",
       "      <td>244</td>\n",
       "      <td>28.0</td>\n",
       "      <td>M</td>\n",
       "      <td>technician</td>\n",
       "      <td>51</td>\n",
       "      <td>2.0</td>\n",
       "      <td>Romance</td>\n",
       "      <td>880606923</td>\n",
       "    </tr>\n",
       "    <tr>\n",
       "      <th>3</th>\n",
       "      <td>298</td>\n",
       "      <td>44.0</td>\n",
       "      <td>M</td>\n",
       "      <td>executive</td>\n",
       "      <td>474</td>\n",
       "      <td>4.0</td>\n",
       "      <td>War</td>\n",
       "      <td>884182806</td>\n",
       "    </tr>\n",
       "    <tr>\n",
       "      <th>4</th>\n",
       "      <td>253</td>\n",
       "      <td>26.0</td>\n",
       "      <td>F</td>\n",
       "      <td>librarian</td>\n",
       "      <td>465</td>\n",
       "      <td>5.0</td>\n",
       "      <td>Adventure</td>\n",
       "      <td>891628467</td>\n",
       "    </tr>\n",
       "  </tbody>\n",
       "</table>\n",
       "</div>"
      ],
      "text/plain": [
       "   userId   age gender  occupation  movieId  rating      genre  timestamp\n",
       "0     196  49.0      M      writer      242     3.0     Comedy  881250949\n",
       "1      22  25.0      M      writer      377     1.0   Children  878887116\n",
       "2     244  28.0      M  technician       51     2.0    Romance  880606923\n",
       "3     298  44.0      M   executive      474     4.0        War  884182806\n",
       "4     253  26.0      F   librarian      465     5.0  Adventure  891628467"
      ]
     },
     "execution_count": 6,
     "metadata": {},
     "output_type": "execute_result"
    }
   ],
   "source": [
    "#Q2.1\n",
    "df.head()"
   ]
  },
  {
   "cell_type": "code",
   "execution_count": 7,
   "id": "bfb7d872",
   "metadata": {},
   "outputs": [
    {
     "name": "stdout",
     "output_type": "stream",
     "text": [
      "<class 'pandas.core.frame.DataFrame'>\n",
      "RangeIndex: 91441 entries, 0 to 91440\n",
      "Data columns (total 8 columns):\n",
      " #   Column      Non-Null Count  Dtype  \n",
      "---  ------      --------------  -----  \n",
      " 0   userId      91441 non-null  int64  \n",
      " 1   age         91441 non-null  float64\n",
      " 2   gender      91441 non-null  object \n",
      " 3   occupation  91441 non-null  object \n",
      " 4   movieId     91441 non-null  int64  \n",
      " 5   rating      91441 non-null  float64\n",
      " 6   genre       91441 non-null  object \n",
      " 7   timestamp   91441 non-null  int64  \n",
      "dtypes: float64(2), int64(3), object(3)\n",
      "memory usage: 5.6+ MB\n"
     ]
    }
   ],
   "source": [
    "# Q2.1\n",
    "df.info()"
   ]
  },
  {
   "cell_type": "code",
   "execution_count": 14,
   "id": "071a6881",
   "metadata": {},
   "outputs": [
    {
     "data": {
      "text/html": [
       "<div>\n",
       "<style scoped>\n",
       "    .dataframe tbody tr th:only-of-type {\n",
       "        vertical-align: middle;\n",
       "    }\n",
       "\n",
       "    .dataframe tbody tr th {\n",
       "        vertical-align: top;\n",
       "    }\n",
       "\n",
       "    .dataframe thead th {\n",
       "        text-align: right;\n",
       "    }\n",
       "</style>\n",
       "<table border=\"1\" class=\"dataframe\">\n",
       "  <thead>\n",
       "    <tr style=\"text-align: right;\">\n",
       "      <th></th>\n",
       "      <th>gender</th>\n",
       "      <th>occupation</th>\n",
       "      <th>genre</th>\n",
       "    </tr>\n",
       "  </thead>\n",
       "  <tbody>\n",
       "    <tr>\n",
       "      <th>0</th>\n",
       "      <td>M</td>\n",
       "      <td>writer</td>\n",
       "      <td>Comedy</td>\n",
       "    </tr>\n",
       "    <tr>\n",
       "      <th>1</th>\n",
       "      <td>M</td>\n",
       "      <td>writer</td>\n",
       "      <td>Children</td>\n",
       "    </tr>\n",
       "    <tr>\n",
       "      <th>2</th>\n",
       "      <td>M</td>\n",
       "      <td>technician</td>\n",
       "      <td>Romance</td>\n",
       "    </tr>\n",
       "    <tr>\n",
       "      <th>3</th>\n",
       "      <td>M</td>\n",
       "      <td>executive</td>\n",
       "      <td>War</td>\n",
       "    </tr>\n",
       "    <tr>\n",
       "      <th>4</th>\n",
       "      <td>F</td>\n",
       "      <td>librarian</td>\n",
       "      <td>Adventure</td>\n",
       "    </tr>\n",
       "  </tbody>\n",
       "</table>\n",
       "</div>"
      ],
      "text/plain": [
       "  gender  occupation      genre\n",
       "0      M      writer     Comedy\n",
       "1      M      writer   Children\n",
       "2      M  technician    Romance\n",
       "3      M   executive        War\n",
       "4      F   librarian  Adventure"
      ]
     },
     "execution_count": 14,
     "metadata": {},
     "output_type": "execute_result"
    }
   ],
   "source": [
    "# Q2.3: Converting Categorical Vairables into Numerical Variables\n",
    "# Building a new dataframe containing only the object columns\n",
    "obj_df = df.select_dtypes(include=['object']).copy()\n",
    "obj_df.head()"
   ]
  },
  {
   "cell_type": "code",
   "execution_count": 15,
   "id": "eff30c42",
   "metadata": {},
   "outputs": [],
   "source": [
    "# Q2.3\n",
    "# Here is the complete dictionary for the three input variables (gender, occupation, genre)\n",
    "cleanup_nums = {\"gender\":     {\"F\": 0, \"M\": 1 },\n",
    "                \"occupation\":     {\"student\": 19, \"other\": 18,\"educator\": 17, \"engineer\": 16,\"programmer\": 15, \n",
    "                                   \"administrator\": 14,\"writer\": 13, \"librarian\": 12,\"technician\": 11, \"executive\": 10, \n",
    "                                   \"healthcare\": 9,\"artist\": 8, \"entertainment\": 7,\"marketing\": 6, \"retired\": 5, \n",
    "                                   \"scientist\": 4,\"lawyer\": 3, \"salesman\": 2,\"doctor\": 1, \"homemaker\": 0},\n",
    "               \"genre\":           {\"Drama\": 0, \"Comedy\": 1,\"Action\": 2, \"Romance\": 3,\"Thriller\": 4, \n",
    "                                   \"Sci-Fi\": 5,\"Horror\": 6, \"Adventure\": 7,\"Crime\": 8, \"Children\": 9, \n",
    "                                   \"Mystery\": 10,\"War\": 11, \"Musical\": 12,\"Animation\": 13, \"Western\": 14, \n",
    "                                   \"Film-Noir\": 15,\"Documentary\": 16, \"Fantasy\": 17,\"unknown\": 18}}\n"
   ]
  },
  {
   "cell_type": "code",
   "execution_count": 16,
   "id": "199bc5f3",
   "metadata": {},
   "outputs": [
    {
     "data": {
      "text/html": [
       "<div>\n",
       "<style scoped>\n",
       "    .dataframe tbody tr th:only-of-type {\n",
       "        vertical-align: middle;\n",
       "    }\n",
       "\n",
       "    .dataframe tbody tr th {\n",
       "        vertical-align: top;\n",
       "    }\n",
       "\n",
       "    .dataframe thead th {\n",
       "        text-align: right;\n",
       "    }\n",
       "</style>\n",
       "<table border=\"1\" class=\"dataframe\">\n",
       "  <thead>\n",
       "    <tr style=\"text-align: right;\">\n",
       "      <th></th>\n",
       "      <th>gender</th>\n",
       "      <th>occupation</th>\n",
       "      <th>genre</th>\n",
       "      <th>rating</th>\n",
       "      <th>age</th>\n",
       "      <th>gender cat</th>\n",
       "      <th>occupation cat</th>\n",
       "      <th>genre cat</th>\n",
       "    </tr>\n",
       "  </thead>\n",
       "  <tbody>\n",
       "    <tr>\n",
       "      <th>0</th>\n",
       "      <td>1</td>\n",
       "      <td>13</td>\n",
       "      <td>1</td>\n",
       "      <td>3.0</td>\n",
       "      <td>49.0</td>\n",
       "      <td>M</td>\n",
       "      <td>writer</td>\n",
       "      <td>Comedy</td>\n",
       "    </tr>\n",
       "    <tr>\n",
       "      <th>1</th>\n",
       "      <td>1</td>\n",
       "      <td>13</td>\n",
       "      <td>9</td>\n",
       "      <td>1.0</td>\n",
       "      <td>25.0</td>\n",
       "      <td>M</td>\n",
       "      <td>writer</td>\n",
       "      <td>Children</td>\n",
       "    </tr>\n",
       "    <tr>\n",
       "      <th>2</th>\n",
       "      <td>1</td>\n",
       "      <td>11</td>\n",
       "      <td>3</td>\n",
       "      <td>2.0</td>\n",
       "      <td>28.0</td>\n",
       "      <td>M</td>\n",
       "      <td>technician</td>\n",
       "      <td>Romance</td>\n",
       "    </tr>\n",
       "    <tr>\n",
       "      <th>3</th>\n",
       "      <td>1</td>\n",
       "      <td>10</td>\n",
       "      <td>11</td>\n",
       "      <td>4.0</td>\n",
       "      <td>44.0</td>\n",
       "      <td>M</td>\n",
       "      <td>executive</td>\n",
       "      <td>War</td>\n",
       "    </tr>\n",
       "    <tr>\n",
       "      <th>4</th>\n",
       "      <td>0</td>\n",
       "      <td>12</td>\n",
       "      <td>7</td>\n",
       "      <td>5.0</td>\n",
       "      <td>26.0</td>\n",
       "      <td>F</td>\n",
       "      <td>librarian</td>\n",
       "      <td>Adventure</td>\n",
       "    </tr>\n",
       "  </tbody>\n",
       "</table>\n",
       "</div>"
      ],
      "text/plain": [
       "   gender  occupation  genre  rating   age gender cat occupation cat  \\\n",
       "0       1          13      1     3.0  49.0          M         writer   \n",
       "1       1          13      9     1.0  25.0          M         writer   \n",
       "2       1          11      3     2.0  28.0          M     technician   \n",
       "3       1          10     11     4.0  44.0          M      executive   \n",
       "4       0          12      7     5.0  26.0          F      librarian   \n",
       "\n",
       "   genre cat  \n",
       "0     Comedy  \n",
       "1   Children  \n",
       "2    Romance  \n",
       "3        War  \n",
       "4  Adventure  "
      ]
     },
     "execution_count": 16,
     "metadata": {},
     "output_type": "execute_result"
    }
   ],
   "source": [
    "# Q2.3\n",
    "#The replace command is used and the categorical data is converted in numerical data. \n",
    "obj_df = obj_df.replace(cleanup_nums)\n",
    "\n",
    "# adding required categorical columns to the object dataframe\n",
    "obj_df['rating']=df['rating']\n",
    "obj_df['age']=df['age']\n",
    "obj_df['gender cat']=df['gender']\n",
    "obj_df['occupation cat']=df['occupation']\n",
    "obj_df['genre cat']=df['genre']\n",
    "obj_df.head()"
   ]
  },
  {
   "cell_type": "code",
   "execution_count": 17,
   "id": "c7526bdc",
   "metadata": {},
   "outputs": [
    {
     "data": {
      "text/html": [
       "<div>\n",
       "<style scoped>\n",
       "    .dataframe tbody tr th:only-of-type {\n",
       "        vertical-align: middle;\n",
       "    }\n",
       "\n",
       "    .dataframe tbody tr th {\n",
       "        vertical-align: top;\n",
       "    }\n",
       "\n",
       "    .dataframe thead th {\n",
       "        text-align: right;\n",
       "    }\n",
       "</style>\n",
       "<table border=\"1\" class=\"dataframe\">\n",
       "  <thead>\n",
       "    <tr style=\"text-align: right;\">\n",
       "      <th></th>\n",
       "      <th>gender</th>\n",
       "      <th>occupation</th>\n",
       "      <th>genre</th>\n",
       "      <th>rating</th>\n",
       "      <th>age</th>\n",
       "    </tr>\n",
       "  </thead>\n",
       "  <tbody>\n",
       "    <tr>\n",
       "      <th>gender</th>\n",
       "      <td>1.000000</td>\n",
       "      <td>-0.001211</td>\n",
       "      <td>0.025016</td>\n",
       "      <td>0.005132</td>\n",
       "      <td>0.040854</td>\n",
       "    </tr>\n",
       "    <tr>\n",
       "      <th>occupation</th>\n",
       "      <td>-0.001211</td>\n",
       "      <td>1.000000</td>\n",
       "      <td>0.005406</td>\n",
       "      <td>0.022263</td>\n",
       "      <td>-0.286480</td>\n",
       "    </tr>\n",
       "    <tr>\n",
       "      <th>genre</th>\n",
       "      <td>0.025016</td>\n",
       "      <td>0.005406</td>\n",
       "      <td>1.000000</td>\n",
       "      <td>0.006867</td>\n",
       "      <td>-0.012078</td>\n",
       "    </tr>\n",
       "    <tr>\n",
       "      <th>rating</th>\n",
       "      <td>0.005132</td>\n",
       "      <td>0.022263</td>\n",
       "      <td>0.006867</td>\n",
       "      <td>1.000000</td>\n",
       "      <td>0.060732</td>\n",
       "    </tr>\n",
       "    <tr>\n",
       "      <th>age</th>\n",
       "      <td>0.040854</td>\n",
       "      <td>-0.286480</td>\n",
       "      <td>-0.012078</td>\n",
       "      <td>0.060732</td>\n",
       "      <td>1.000000</td>\n",
       "    </tr>\n",
       "  </tbody>\n",
       "</table>\n",
       "</div>"
      ],
      "text/plain": [
       "              gender  occupation     genre    rating       age\n",
       "gender      1.000000   -0.001211  0.025016  0.005132  0.040854\n",
       "occupation -0.001211    1.000000  0.005406  0.022263 -0.286480\n",
       "genre       0.025016    0.005406  1.000000  0.006867 -0.012078\n",
       "rating      0.005132    0.022263  0.006867  1.000000  0.060732\n",
       "age         0.040854   -0.286480 -0.012078  0.060732  1.000000"
      ]
     },
     "execution_count": 17,
     "metadata": {},
     "output_type": "execute_result"
    }
   ],
   "source": [
    "# Q2.2\n",
    "obj_df.corr()"
   ]
  },
  {
   "cell_type": "markdown",
   "id": "00617fe4",
   "metadata": {},
   "source": [
    "**Q2.4: Observation and Analysis**\n",
    "On the above table, the corr() is used to find the pairwise correlation of all columns in the object dataframe. Upon looking at the table, we can find out the correlation of vairous variables such as age, occupation, gender and genre with the rating variable. We can clearly deduce that the correlation between age and rating is the highest (0.060732) followed by occupation and rating at 0.022263. Genre had the least correlation with rating (0.006867) followed by gender(0.005132). \n",
    "\n",
    "Summary:\n",
    "* Highest Correlation: Age and Rating (0.060732)\n",
    "* Second-highest Correlation: Occupation and Rating (0.022263)\n",
    "* Second-lowest Correlation: Gender and Rating (0.005132)\n",
    "* lowest Correlation: Genre and Rating (0.006867)\n",
    "\n",
    "If the correlation is closer to 1, it is said to have a higher predictive power. However, in this scenario, all a pairwise correlation is closer to 0 instead which may suggest that there is a weak correlation between the pairs and even a large change in these variables would have little effect on the ratings. The higher the correlation, the more the predictive power. However, if the correlation is less, so will the predictive power. In this scenario, it would be wise to use the variables with the highest correlation to get better predictive results instead of lowest correlation variables. Inorder to train a regression model to predict the rating, it would better to take age and occupation as input variables as they have the highest correlation."
   ]
  },
  {
   "cell_type": "markdown",
   "id": "7606c849",
   "metadata": {},
   "source": [
    "### Q3: Split Training and Testing Data\n",
    "\n",
    "\n",
    "\n",
    "* Machine learning models are trained to help make predictions for the future. Normally, we need to randomly split the dataset into training and testing sets, where we use the training set to train the model, and then leverage the well-trained model to make predictions on the testing set. \n",
    "* To further investigate whether the size of the training/testing data affects the model performance, please random split the data into training and testing sets with different sizes:\n",
    "    * Q3.1: Case 1 - training data containing 10% of the entire data;\n",
    "    * Q3.2: Case 2 - training data containing 90% of the entire data. \n",
    "* Print the shape of training and testing sets in the two cases. "
   ]
  },
  {
   "cell_type": "code",
   "execution_count": 18,
   "id": "f8eeeec6",
   "metadata": {},
   "outputs": [],
   "source": [
    "feature_cols = ['gender', 'occupation']\n",
    "X = obj_df[feature_cols]\n",
    "y = obj_df['rating']\n",
    "\n"
   ]
  },
  {
   "cell_type": "code",
   "execution_count": 111,
   "id": "6e398ea5",
   "metadata": {},
   "outputs": [
    {
     "name": "stdout",
     "output_type": "stream",
     "text": [
      "Train set shape: (9144, 2)\n",
      "Test set shape: (82297, 2)\n"
     ]
    }
   ],
   "source": [
    "#Q3.1: Case 1 - Training data containing 10% of the entire data;\n",
    "X_train, X_test, y_train, y_test = train_test_split(X, y, test_size=0.9) \n",
    "print(\"Train set shape:\",X_train.shape)\n",
    "print(\"Test set shape:\",X_test.shape)"
   ]
  },
  {
   "cell_type": "code",
   "execution_count": 112,
   "id": "fc87fc70",
   "metadata": {},
   "outputs": [
    {
     "name": "stdout",
     "output_type": "stream",
     "text": [
      "Train set shape: (82296, 2)\n",
      "Test set shape: (9145, 2)\n"
     ]
    }
   ],
   "source": [
    "#Q3.2: Case 2 - Training data containing 90% of the entire data.\n",
    "X_train, X_test, y_train, y_test = train_test_split(X, y, test_size=0.1)\n",
    "print(\"Train set shape:\",X_train.shape)\n",
    "print(\"Test set shape:\",X_test.shape)"
   ]
  },
  {
   "cell_type": "markdown",
   "id": "14600224",
   "metadata": {},
   "source": [
    "### Q4: Train Linear Regression Models with Feature Selection under Cases 1 & 2\n",
    "* When training a machine learning model for prediction, we may need to select the most important/correlated input features for more accurate results. \n",
    "* To investigate whether feature selection affects the model performance, please select two most correlated features and two least correlated features regarding rating, respectively. \n",
    "* Train four linear regression models by following the conditions:\n",
    "    - (model-a) using the training/testing data in case 1 with two most correlated input features\n",
    "    - (model-b) using the training/testing data in case 1 with two least correlated input features\n",
    "    - (model-c) using the training/testing data in case 2 with two most correlated input features\n",
    "    - (model-d) using the training/testing data in case 2 with two least correlated input features\n",
    "* By doing this, we can verify the impacts of the size of traing/testing data on the model performance via comparing model-a and model-c (or model-b and model-d); meanwhile the impacts of feature selection can be validated via comparing model-a and model-b (or model-c and model-d).    "
   ]
  },
  {
   "cell_type": "markdown",
   "id": "75cc201c",
   "metadata": {},
   "source": [
    "### Model-A"
   ]
  },
  {
   "cell_type": "code",
   "execution_count": 19,
   "id": "5463fdb8",
   "metadata": {},
   "outputs": [
    {
     "name": "stdout",
     "output_type": "stream",
     "text": [
      "y =  [0.00727087 0.01112595] * X +  3.1239187296242843\n"
     ]
    }
   ],
   "source": [
    "# Model-A Train Test Split\n",
    "\n",
    "# (model-a) using the training/testing data in case 1 with two most correlated input features\n",
    "train, test = train_test_split(obj_df,test_size=.9, random_state=2)\n",
    "\n",
    "#Age and Occupation is the two most correlated input features\n",
    "X_train_a= train[[\"age\",\"occupation\"]] \n",
    "y_train_a = train['rating']\n",
    "X_test_a = test[[\"age\",\"occupation\"]]\n",
    "y_test_a = test['rating']\n",
    "\n",
    "reg_a = linear_model.LinearRegression()\n",
    "reg_a.fit(X_train_a,y_train_a)\n",
    "print(\"y = \", reg_a.coef_, \"* X + \", reg_a.intercept_) "
   ]
  },
  {
   "cell_type": "code",
   "execution_count": 20,
   "id": "dd62f739",
   "metadata": {},
   "outputs": [
    {
     "name": "stdout",
     "output_type": "stream",
     "text": [
      "Train set performance:\n",
      "MSE: 1.2455369066640651\n",
      "Root MSE: 1.1160362479167356\n",
      "\n",
      "Test set performance:\n",
      "MSE: 1.2689980143326394\n",
      "Root MSE: 1.1264981199862871\n"
     ]
    }
   ],
   "source": [
    "#Prediction Cell\n",
    "prediction_train_a = reg_a.predict(X_train_a)\n",
    "modeltrain_a_mse =mean_squared_error(y_train_a, prediction_train_a)\n",
    "modeltrain_a_rmse =np.sqrt(mean_squared_error(y_train_a, prediction_train_a))\n",
    "print(\"Train set performance:\")\n",
    "print(\"MSE:\", modeltrain_a_mse)\n",
    "print(\"Root MSE:\", modeltrain_a_rmse)\n",
    "print(\"\")\n",
    "prediction_test_a = reg_a.predict(X_test_a)\n",
    "modeltest_a_mse = mean_squared_error(y_test_a, prediction_test_a)\n",
    "modeltest_a_rmse = np.sqrt(mean_squared_error(y_test_a, prediction_test_a))\n",
    "print(\"Test set performance:\")\n",
    "print(\"MSE:\", modeltest_a_mse)\n",
    "print(\"Root MSE:\", modeltest_a_rmse)"
   ]
  },
  {
   "cell_type": "markdown",
   "id": "5873bc5d",
   "metadata": {},
   "source": [
    "### Model-B"
   ]
  },
  {
   "cell_type": "code",
   "execution_count": 21,
   "id": "70bb78de",
   "metadata": {},
   "outputs": [
    {
     "name": "stdout",
     "output_type": "stream",
     "text": [
      "y =  [0.04957376 0.00293938] * X +  3.476473411391647\n"
     ]
    }
   ],
   "source": [
    "# (model-b) using the training/testing data in case 1 with two least correlated input features\n",
    "train, test = train_test_split(obj_df,test_size=.9, random_state=2)\n",
    "# Gender and Genre is the two least correlated input features\n",
    "X_train_b = train[[\"gender\",\"genre\"]]\n",
    "y_train_b = train['rating']\n",
    "X_test_b = test[[\"gender\",\"genre\"]]\n",
    "y_test_b = test['rating']\n",
    "\n",
    "reg_b = linear_model.LinearRegression()\n",
    "reg_b.fit(X_train_b,y_train_b)\n",
    "print(\"y = \", reg_b.coef_, \"* X + \", reg_b.intercept_)"
   ]
  },
  {
   "cell_type": "code",
   "execution_count": 22,
   "id": "a405f353",
   "metadata": {},
   "outputs": [
    {
     "name": "stdout",
     "output_type": "stream",
     "text": [
      "Train set performance:\n",
      "MSE: 1.2523120935762961\n",
      "Root MSE: 1.1190675107321704\n",
      "\n",
      "Test set performance:\n",
      "MSE: 1.2760914626830366\n",
      "Root MSE: 1.129642183473615\n"
     ]
    }
   ],
   "source": [
    "#Prediction Cell\n",
    "prediction_train_b = reg_b.predict(X_train_b)\n",
    "modeltrain_b_mse =mean_squared_error(y_train_b, prediction_train_b)\n",
    "modeltrain_b_rmse =np.sqrt(mean_squared_error(y_train_b, prediction_train_b))\n",
    "print(\"Train set performance:\")\n",
    "print(\"MSE:\", modeltrain_b_mse)\n",
    "print(\"Root MSE:\", modeltrain_b_rmse)\n",
    "print(\"\")\n",
    "prediction_test_b = reg_b.predict(X_test_b)\n",
    "modeltest_b_mse = mean_squared_error(y_test_b, prediction_test_b)\n",
    "modeltest_b_rmse = np.sqrt(mean_squared_error(y_test_b, prediction_test_b))\n",
    "print(\"Test set performance:\")\n",
    "print(\"MSE:\", modeltest_b_mse)\n",
    "print(\"Root MSE:\", modeltest_b_rmse)"
   ]
  },
  {
   "cell_type": "markdown",
   "id": "e129544a",
   "metadata": {},
   "source": [
    "### Model-C"
   ]
  },
  {
   "cell_type": "code",
   "execution_count": 23,
   "id": "5e30fa92",
   "metadata": {},
   "outputs": [
    {
     "name": "stdout",
     "output_type": "stream",
     "text": [
      "y =  [0.00700965 0.01066672] * X +  3.1332292722972457\n"
     ]
    }
   ],
   "source": [
    "# (model-c) using the training/testing data in case 2 with two most correlated input features\n",
    "train, test = train_test_split(obj_df,test_size=.1, random_state=2)\n",
    "X_train_c = train[[\"age\",\"occupation\"]]\n",
    "y_train_c = train['rating']\n",
    "X_test_c = test[[\"age\",\"occupation\"]]\n",
    "y_test_c = test['rating']\n",
    "\n",
    "reg_c = linear_model.LinearRegression()\n",
    "reg_c.fit(X_train_c,y_train_c)\n",
    "print(\"y = \", reg_c.coef_, \"* X + \", reg_c.intercept_)"
   ]
  },
  {
   "cell_type": "code",
   "execution_count": 24,
   "id": "8be54fe0",
   "metadata": {
    "scrolled": true
   },
   "outputs": [
    {
     "name": "stdout",
     "output_type": "stream",
     "text": [
      "Train set performance:\n",
      "MSE: 1.267245642993\n",
      "Root MSE: 1.1257200553392481\n",
      "\n",
      "Test set performance:\n",
      "MSE: 1.2609637496538848\n",
      "Root MSE: 1.1229264221906459\n"
     ]
    }
   ],
   "source": [
    "#Prediction Cell\n",
    "prediction_train_c = reg_c.predict(X_train_c)\n",
    "modeltrain_c_mse =mean_squared_error(y_train_c, prediction_train_c)\n",
    "modeltrain_c_rmse =np.sqrt(mean_squared_error(y_train_c, prediction_train_c))\n",
    "print(\"Train set performance:\")\n",
    "print(\"MSE:\", modeltrain_c_mse)\n",
    "print(\"Root MSE:\", modeltrain_c_rmse)\n",
    "print(\"\")\n",
    "prediction_test_c = reg_c.predict(X_test_c)\n",
    "modeltest_c_mse= mean_squared_error(y_test_c, prediction_test_c)\n",
    "modeltest_c_rmse=np.sqrt(mean_squared_error(y_test_c, prediction_test_c))\n",
    "print(\"Test set performance:\")\n",
    "print(\"MSE:\", modeltest_c_mse)\n",
    "print(\"Root MSE:\", modeltest_c_rmse)"
   ]
  },
  {
   "cell_type": "markdown",
   "id": "d45ae7ea",
   "metadata": {},
   "source": [
    "### Model-D"
   ]
  },
  {
   "cell_type": "code",
   "execution_count": 25,
   "id": "9116f64f",
   "metadata": {},
   "outputs": [
    {
     "name": "stdout",
     "output_type": "stream",
     "text": [
      "y =  [0.00213481 0.01488616] * X +  3.49878576465353\n"
     ]
    }
   ],
   "source": [
    "# (model-d) using the training/testing data in case 2 with two least correlated input features\n",
    "train, test = train_test_split(obj_df,test_size=0.1, random_state=2)\n",
    "\n",
    "X_train_d = train[[\"genre\",\"gender\"]]\n",
    "y_train_d = train['rating']\n",
    "X_test_d = test[[\"genre\",\"occupation\"]]\n",
    "y_test_d = test['rating']\n",
    "\n",
    "reg_d = linear_model.LinearRegression()\n",
    "reg_d.fit(X_train_d,y_train_d)\n",
    "print(\"y = \", reg_d.coef_, \"* X + \", reg_d.intercept_)"
   ]
  },
  {
   "cell_type": "code",
   "execution_count": 26,
   "id": "6a1beb56",
   "metadata": {},
   "outputs": [
    {
     "name": "stdout",
     "output_type": "stream",
     "text": [
      "Train set performance:\n",
      "MSE: 1.2738728409081106\n",
      "Root MSE: 1.1286597542696872\n",
      "\n",
      "Test set performance:\n",
      "MSE: 1.3092201715011704\n",
      "Root MSE: 1.1442115938501805\n"
     ]
    }
   ],
   "source": [
    "#Prediction Cell\n",
    "prediction_train_d = reg_d.predict(X_train_d)\n",
    "modeltrain_d_mse =mean_squared_error(y_train_d, prediction_train_d)\n",
    "modeltrain_d_rmse =np.sqrt(mean_squared_error(y_train_d, prediction_train_d))\n",
    "print(\"Train set performance:\")\n",
    "print(\"MSE:\", modeltrain_d_mse)\n",
    "print(\"Root MSE:\", modeltrain_d_rmse)\n",
    "print(\"\")\n",
    "prediction_test_d = reg_d.predict(X_test_d)\n",
    "modeltest_d_mse = mean_squared_error(y_test_d, prediction_test_d)\n",
    "modeltest_d_rmse = np.sqrt(mean_squared_error(y_test_d, prediction_test_d))\n",
    "print(\"Test set performance:\")\n",
    "print(\"MSE:\", modeltest_d_mse)\n",
    "print(\"Root MSE:\", modeltest_d_rmse)"
   ]
  },
  {
   "cell_type": "markdown",
   "id": "f85c7279",
   "metadata": {},
   "source": [
    "### Q5: Evaluate Models\n",
    "* 5.1: Evaluate the performance of the four models with two metrics, including MSE and Root MSE\n",
    "* 5.2: Print the results of the four models regarding the two metrics"
   ]
  },
  {
   "cell_type": "markdown",
   "id": "2acfbe2c",
   "metadata": {},
   "source": [
    "### Evaluation and Analysis (Answer to Q4 & Q5.1)\n",
    "\n",
    "**Impacts of the size of training/testing data on the model performance**\n",
    "\n",
    "Comparing Model-A and Model-C\n",
    "* In the training set performance, Model A seems to have the lower MSE as the training size is very less (1.245537) in comparison to Model C (1.267246). This is because it is predicting the value that it has already trained. The Training set consists of only 10% of the entire data. If the size of the training set is very small, it might result in lesser MSE. THats why sample size matters alot!\n",
    "\n",
    "* In the testing set performance, Model-C seems to have lesser MSE (1.260964) and RMSE (1.122926) than Model-A (1.268998, 1.126498). This is because the Model-A's training data consists of 90% of the entire data. Therefore, when predicting the value of the testing data, it would provide accurate predictions in comparison to Model-A whose test size is 90%. \n",
    "\n",
    "\n",
    "**Impacts of feature selection on the model performance**\n",
    "\n",
    "Comparing Model-C and Model-D\n",
    "* Looking at both and testing training set performance, the MSE and Root MSE for Model-C is lower than that of Model-D. This is because Model-C is trained with the two most correlated input variables (Age, Occupation) whereas Model-D is trained with the least correlated ones (Gender, Genre). This results the MSE and RMSE to be lower in the training set. Lower MSE results in better forecast, therefore, Model-C is well suited for that as it has the better feature selection."
   ]
  },
  {
   "cell_type": "code",
   "execution_count": 26,
   "id": "96a50a0c",
   "metadata": {},
   "outputs": [
    {
     "data": {
      "text/html": [
       "<div>\n",
       "<style scoped>\n",
       "    .dataframe tbody tr th:only-of-type {\n",
       "        vertical-align: middle;\n",
       "    }\n",
       "\n",
       "    .dataframe tbody tr th {\n",
       "        vertical-align: top;\n",
       "    }\n",
       "\n",
       "    .dataframe thead th {\n",
       "        text-align: right;\n",
       "    }\n",
       "</style>\n",
       "<table border=\"1\" class=\"dataframe\">\n",
       "  <thead>\n",
       "    <tr style=\"text-align: right;\">\n",
       "      <th></th>\n",
       "      <th>Model</th>\n",
       "      <th>Test_MSE</th>\n",
       "      <th>Test_RMSE</th>\n",
       "      <th>Train_MSE</th>\n",
       "      <th>Train_RMSE</th>\n",
       "    </tr>\n",
       "  </thead>\n",
       "  <tbody>\n",
       "    <tr>\n",
       "      <th>0</th>\n",
       "      <td>Model-A</td>\n",
       "      <td>1.268998</td>\n",
       "      <td>1.126498</td>\n",
       "      <td>1.245537</td>\n",
       "      <td>1.116036</td>\n",
       "    </tr>\n",
       "    <tr>\n",
       "      <th>1</th>\n",
       "      <td>Model-B</td>\n",
       "      <td>1.276091</td>\n",
       "      <td>1.129642</td>\n",
       "      <td>1.252312</td>\n",
       "      <td>1.119068</td>\n",
       "    </tr>\n",
       "    <tr>\n",
       "      <th>2</th>\n",
       "      <td>Model-C</td>\n",
       "      <td>1.260964</td>\n",
       "      <td>1.122926</td>\n",
       "      <td>1.267246</td>\n",
       "      <td>1.125720</td>\n",
       "    </tr>\n",
       "    <tr>\n",
       "      <th>3</th>\n",
       "      <td>Model-D</td>\n",
       "      <td>1.309220</td>\n",
       "      <td>1.144212</td>\n",
       "      <td>1.273873</td>\n",
       "      <td>1.128660</td>\n",
       "    </tr>\n",
       "  </tbody>\n",
       "</table>\n",
       "</div>"
      ],
      "text/plain": [
       "     Model  Test_MSE  Test_RMSE  Train_MSE  Train_RMSE\n",
       "0  Model-A  1.268998   1.126498   1.245537    1.116036\n",
       "1  Model-B  1.276091   1.129642   1.252312    1.119068\n",
       "2  Model-C  1.260964   1.122926   1.267246    1.125720\n",
       "3  Model-D  1.309220   1.144212   1.273873    1.128660"
      ]
     },
     "execution_count": 26,
     "metadata": {},
     "output_type": "execute_result"
    }
   ],
   "source": [
    "#Q5.2: Print the results of the four models regarding the two metrics\n",
    "data = {'Model':  ['Model-A', 'Model-B', 'Model-C','Model-D'],\n",
    "        'Test_MSE': [modeltest_a_mse, modeltest_b_mse, modeltest_c_mse,modeltest_d_mse],\n",
    "        'Test_RMSE': [modeltest_a_rmse, modeltest_b_rmse, modeltest_c_rmse,modeltest_d_rmse],\n",
    "        'Train_MSE': [modeltrain_a_mse, modeltrain_b_mse, modeltrain_c_mse,modeltrain_d_mse],\n",
    "        'Train_RMSE': [modeltrain_a_rmse, modeltrain_b_rmse, modeltrain_c_rmse,modeltrain_d_rmse]\n",
    "        }\n",
    "\n",
    "metrics = pd.DataFrame(data)\n",
    "metrics\n"
   ]
  },
  {
   "cell_type": "markdown",
   "id": "8c614fb5",
   "metadata": {},
   "source": [
    "### Q6: Visualize, Compare and Analyze the Results\n",
    "* Visulize the results, and perform ___insightful analysis___ on the obtained results. For better visualization, you may need to carefully set the scale for the y-axis.\n",
    "* Normally, the model trained with most correlated features and more training data will get better results. Do you obtain the similar observations? If not, please ___explain the possible reasons___."
   ]
  },
  {
   "cell_type": "code",
   "execution_count": 29,
   "id": "29b9988b",
   "metadata": {},
   "outputs": [
    {
     "data": {
      "text/html": [
       "<div>\n",
       "<style scoped>\n",
       "    .dataframe tbody tr th:only-of-type {\n",
       "        vertical-align: middle;\n",
       "    }\n",
       "\n",
       "    .dataframe tbody tr th {\n",
       "        vertical-align: top;\n",
       "    }\n",
       "\n",
       "    .dataframe thead th {\n",
       "        text-align: right;\n",
       "    }\n",
       "</style>\n",
       "<table border=\"1\" class=\"dataframe\">\n",
       "  <thead>\n",
       "    <tr style=\"text-align: right;\">\n",
       "      <th></th>\n",
       "      <th>Models</th>\n",
       "      <th>MSE</th>\n",
       "    </tr>\n",
       "  </thead>\n",
       "  <tbody>\n",
       "    <tr>\n",
       "      <th>0</th>\n",
       "      <td>Model-A</td>\n",
       "      <td>1.268998</td>\n",
       "    </tr>\n",
       "    <tr>\n",
       "      <th>1</th>\n",
       "      <td>Model-B</td>\n",
       "      <td>1.276091</td>\n",
       "    </tr>\n",
       "    <tr>\n",
       "      <th>2</th>\n",
       "      <td>Model-C</td>\n",
       "      <td>1.260964</td>\n",
       "    </tr>\n",
       "    <tr>\n",
       "      <th>3</th>\n",
       "      <td>Model-D</td>\n",
       "      <td>1.309220</td>\n",
       "    </tr>\n",
       "  </tbody>\n",
       "</table>\n",
       "</div>"
      ],
      "text/plain": [
       "    Models       MSE\n",
       "0  Model-A  1.268998\n",
       "1  Model-B  1.276091\n",
       "2  Model-C  1.260964\n",
       "3  Model-D  1.309220"
      ]
     },
     "execution_count": 29,
     "metadata": {},
     "output_type": "execute_result"
    }
   ],
   "source": [
    "TestMetrics = pd.DataFrame()\n",
    "TestMetrics[\"Models\"] = metrics[\"Model\"]\n",
    "TestMetrics[\"MSE\"] = metrics[\"Test_MSE\"]\n",
    "TestMetrics\n"
   ]
  },
  {
   "cell_type": "code",
   "execution_count": 35,
   "id": "75e43bbc",
   "metadata": {},
   "outputs": [
    {
     "data": {
      "image/png": "[encoded data removed]",
      "text/plain": [
       "<Figure size 432x288 with 1 Axes>"
      ]
     },
     "metadata": {
      "needs_background": "light"
     },
     "output_type": "display_data"
    }
   ],
   "source": [
    "#Q6\n",
    "fig = plt.figure(1)\n",
    "ax = fig.add_axes([0,0,1,1])\n",
    "ax.bar(TestMetrics[\"Models\"],TestMetrics[\"MSE\"])\n",
    "plt.ylabel('Mean Squared Errors')\n",
    "plt.xlabel('Models')\n",
    "plt.ylim((1.2,1.35))\n",
    "plt.suptitle('Testing Set MSE values')\n",
    "\n",
    "plt.show()"
   ]
  },
  {
   "cell_type": "markdown",
   "id": "c3edc0d1",
   "metadata": {},
   "source": [
    "### Observation\n",
    "On the bar chart shown above, we can clearly deduce that Model-C is the best model for predicting the rating as it has the lowest Mean Squared Error. This is because this model has a training set which consists of 90% of the entire data and it also takes the most correlated input variables into account. However, Model-D seems to have the highest mean squared error followed by Model-B. This huge difference between these two models may be due to difference in the test sizes. Either way, since they took the least correlated input variables they have higher Mean squared errors, therefore, low predictive power. "
   ]
  }
 ],
 "metadata": {
  "kernelspec": {
   "display_name": "Python 3 (ipykernel)",
   "language": "python",
   "name": "python3"
  },
  "language_info": {
   "codemirror_mode": {
    "name": "ipython",
    "version": 3
   },
   "file_extension": ".py",
   "mimetype": "text/x-python",
   "name": "python",
   "nbconvert_exporter": "python",
   "pygments_lexer": "ipython3",
   "version": "3.9.7"
  }
 },
 "nbformat": 4,
 "nbformat_minor": 5
}
